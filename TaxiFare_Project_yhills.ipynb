{
 "cells": [
  {
   "cell_type": "code",
   "execution_count": null,
   "id": "a0cf704a",
   "metadata": {},
   "outputs": [],
   "source": [
    "#-----------------------------------> Atharva Chaudhari <--------------------------------------"
   ]
  },
  {
   "cell_type": "code",
   "execution_count": 16,
   "id": "b6930712",
   "metadata": {},
   "outputs": [],
   "source": [
    "import pandas as pd \n",
    "import numpy as np\n",
    "import seaborn as sns \n",
    "from matplotlib import pyplot as plt\n",
    "%matplotlib inline \n",
    "import warnings\n",
    "warnings.filterwarnings(\"ignore\")\n",
    "from sklearn.linear_model import LinearRegression\n",
    "from sklearn.model_selection import train_test_split\n"
   ]
  },
  {
   "cell_type": "code",
   "execution_count": 17,
   "id": "8be6d9a6",
   "metadata": {},
   "outputs": [],
   "source": [
    "taxi=pd.read_csv(\"TaxiFare.csv\")"
   ]
  },
  {
   "cell_type": "code",
   "execution_count": 69,
   "id": "0f0b393c",
   "metadata": {},
   "outputs": [
    {
     "data": {
      "text/html": [
       "<div>\n",
       "<style scoped>\n",
       "    .dataframe tbody tr th:only-of-type {\n",
       "        vertical-align: middle;\n",
       "    }\n",
       "\n",
       "    .dataframe tbody tr th {\n",
       "        vertical-align: top;\n",
       "    }\n",
       "\n",
       "    .dataframe thead th {\n",
       "        text-align: right;\n",
       "    }\n",
       "</style>\n",
       "<table border=\"1\" class=\"dataframe\">\n",
       "  <thead>\n",
       "    <tr style=\"text-align: right;\">\n",
       "      <th></th>\n",
       "      <th>amount</th>\n",
       "      <th>longitude_of_pickup</th>\n",
       "      <th>latitude_of_pickup</th>\n",
       "      <th>longitude_of_dropoff</th>\n",
       "      <th>latitude_of_dropoff</th>\n",
       "      <th>no_of_passenger</th>\n",
       "      <th>pickup_date</th>\n",
       "      <th>pickup_day</th>\n",
       "      <th>pickup_hour</th>\n",
       "      <th>pickup_day_of_week</th>\n",
       "      <th>pickup_month</th>\n",
       "      <th>pickup_year</th>\n",
       "      <th>mornight</th>\n",
       "    </tr>\n",
       "  </thead>\n",
       "  <tbody>\n",
       "    <tr>\n",
       "      <th>0</th>\n",
       "      <td>4.5</td>\n",
       "      <td>-73.844311</td>\n",
       "      <td>40.721319</td>\n",
       "      <td>-73.841610</td>\n",
       "      <td>40.712278</td>\n",
       "      <td>1</td>\n",
       "      <td>2009-06-15</td>\n",
       "      <td>15</td>\n",
       "      <td>13</td>\n",
       "      <td>Monday</td>\n",
       "      <td>6</td>\n",
       "      <td>2009</td>\n",
       "      <td>1</td>\n",
       "    </tr>\n",
       "    <tr>\n",
       "      <th>1</th>\n",
       "      <td>16.9</td>\n",
       "      <td>-74.016048</td>\n",
       "      <td>40.711303</td>\n",
       "      <td>-73.979268</td>\n",
       "      <td>40.782004</td>\n",
       "      <td>1</td>\n",
       "      <td>2010-01-05</td>\n",
       "      <td>5</td>\n",
       "      <td>12</td>\n",
       "      <td>Tuesday</td>\n",
       "      <td>1</td>\n",
       "      <td>2010</td>\n",
       "      <td>1</td>\n",
       "    </tr>\n",
       "    <tr>\n",
       "      <th>2</th>\n",
       "      <td>5.7</td>\n",
       "      <td>-73.982738</td>\n",
       "      <td>40.761270</td>\n",
       "      <td>-73.991242</td>\n",
       "      <td>40.750562</td>\n",
       "      <td>2</td>\n",
       "      <td>2011-08-17</td>\n",
       "      <td>17</td>\n",
       "      <td>20</td>\n",
       "      <td>Wednesday</td>\n",
       "      <td>8</td>\n",
       "      <td>2011</td>\n",
       "      <td>1</td>\n",
       "    </tr>\n",
       "    <tr>\n",
       "      <th>3</th>\n",
       "      <td>7.7</td>\n",
       "      <td>-73.987130</td>\n",
       "      <td>40.733143</td>\n",
       "      <td>-73.991567</td>\n",
       "      <td>40.758092</td>\n",
       "      <td>1</td>\n",
       "      <td>2012-04-21</td>\n",
       "      <td>21</td>\n",
       "      <td>0</td>\n",
       "      <td>Saturday</td>\n",
       "      <td>4</td>\n",
       "      <td>2012</td>\n",
       "      <td>0</td>\n",
       "    </tr>\n",
       "    <tr>\n",
       "      <th>4</th>\n",
       "      <td>5.3</td>\n",
       "      <td>-73.968095</td>\n",
       "      <td>40.768008</td>\n",
       "      <td>-73.956655</td>\n",
       "      <td>40.783762</td>\n",
       "      <td>1</td>\n",
       "      <td>2010-03-09</td>\n",
       "      <td>9</td>\n",
       "      <td>3</td>\n",
       "      <td>Tuesday</td>\n",
       "      <td>3</td>\n",
       "      <td>2010</td>\n",
       "      <td>0</td>\n",
       "    </tr>\n",
       "    <tr>\n",
       "      <th>5</th>\n",
       "      <td>12.1</td>\n",
       "      <td>-74.000964</td>\n",
       "      <td>40.731630</td>\n",
       "      <td>-73.972892</td>\n",
       "      <td>40.758233</td>\n",
       "      <td>1</td>\n",
       "      <td>2011-01-06</td>\n",
       "      <td>6</td>\n",
       "      <td>5</td>\n",
       "      <td>Thursday</td>\n",
       "      <td>1</td>\n",
       "      <td>2011</td>\n",
       "      <td>0</td>\n",
       "    </tr>\n",
       "    <tr>\n",
       "      <th>6</th>\n",
       "      <td>7.5</td>\n",
       "      <td>-73.980002</td>\n",
       "      <td>40.751662</td>\n",
       "      <td>-73.973802</td>\n",
       "      <td>40.764842</td>\n",
       "      <td>1</td>\n",
       "      <td>2012-11-20</td>\n",
       "      <td>20</td>\n",
       "      <td>16</td>\n",
       "      <td>Tuesday</td>\n",
       "      <td>11</td>\n",
       "      <td>2012</td>\n",
       "      <td>1</td>\n",
       "    </tr>\n",
       "    <tr>\n",
       "      <th>7</th>\n",
       "      <td>16.5</td>\n",
       "      <td>-73.951300</td>\n",
       "      <td>40.774138</td>\n",
       "      <td>-73.990095</td>\n",
       "      <td>40.751048</td>\n",
       "      <td>1</td>\n",
       "      <td>2012-01-04</td>\n",
       "      <td>4</td>\n",
       "      <td>13</td>\n",
       "      <td>Wednesday</td>\n",
       "      <td>1</td>\n",
       "      <td>2012</td>\n",
       "      <td>1</td>\n",
       "    </tr>\n",
       "    <tr>\n",
       "      <th>8</th>\n",
       "      <td>9.0</td>\n",
       "      <td>-74.006462</td>\n",
       "      <td>40.726713</td>\n",
       "      <td>-73.993078</td>\n",
       "      <td>40.731628</td>\n",
       "      <td>1</td>\n",
       "      <td>2012-12-03</td>\n",
       "      <td>3</td>\n",
       "      <td>9</td>\n",
       "      <td>Monday</td>\n",
       "      <td>12</td>\n",
       "      <td>2012</td>\n",
       "      <td>0</td>\n",
       "    </tr>\n",
       "    <tr>\n",
       "      <th>9</th>\n",
       "      <td>8.9</td>\n",
       "      <td>-73.980658</td>\n",
       "      <td>40.733873</td>\n",
       "      <td>-73.991540</td>\n",
       "      <td>40.758138</td>\n",
       "      <td>2</td>\n",
       "      <td>2009-09-01</td>\n",
       "      <td>1</td>\n",
       "      <td>21</td>\n",
       "      <td>Tuesday</td>\n",
       "      <td>9</td>\n",
       "      <td>2009</td>\n",
       "      <td>1</td>\n",
       "    </tr>\n",
       "    <tr>\n",
       "      <th>10</th>\n",
       "      <td>5.3</td>\n",
       "      <td>-73.996335</td>\n",
       "      <td>40.737142</td>\n",
       "      <td>-73.980721</td>\n",
       "      <td>40.733559</td>\n",
       "      <td>1</td>\n",
       "      <td>2012-04-08</td>\n",
       "      <td>8</td>\n",
       "      <td>3</td>\n",
       "      <td>Sunday</td>\n",
       "      <td>4</td>\n",
       "      <td>2012</td>\n",
       "      <td>0</td>\n",
       "    </tr>\n",
       "    <tr>\n",
       "      <th>11</th>\n",
       "      <td>5.5</td>\n",
       "      <td>0.000000</td>\n",
       "      <td>0.000000</td>\n",
       "      <td>0.000000</td>\n",
       "      <td>0.000000</td>\n",
       "      <td>3</td>\n",
       "      <td>2012-12-24</td>\n",
       "      <td>24</td>\n",
       "      <td>7</td>\n",
       "      <td>Monday</td>\n",
       "      <td>12</td>\n",
       "      <td>2012</td>\n",
       "      <td>0</td>\n",
       "    </tr>\n",
       "    <tr>\n",
       "      <th>12</th>\n",
       "      <td>4.1</td>\n",
       "      <td>-73.991601</td>\n",
       "      <td>40.744712</td>\n",
       "      <td>-73.983081</td>\n",
       "      <td>40.744682</td>\n",
       "      <td>2</td>\n",
       "      <td>2009-11-05</td>\n",
       "      <td>5</td>\n",
       "      <td>21</td>\n",
       "      <td>Thursday</td>\n",
       "      <td>11</td>\n",
       "      <td>2009</td>\n",
       "      <td>1</td>\n",
       "    </tr>\n",
       "    <tr>\n",
       "      <th>13</th>\n",
       "      <td>7.0</td>\n",
       "      <td>-74.005360</td>\n",
       "      <td>40.728867</td>\n",
       "      <td>-74.008913</td>\n",
       "      <td>40.710907</td>\n",
       "      <td>1</td>\n",
       "      <td>2013-07-02</td>\n",
       "      <td>2</td>\n",
       "      <td>15</td>\n",
       "      <td>Tuesday</td>\n",
       "      <td>7</td>\n",
       "      <td>2013</td>\n",
       "      <td>1</td>\n",
       "    </tr>\n",
       "    <tr>\n",
       "      <th>14</th>\n",
       "      <td>7.7</td>\n",
       "      <td>-74.001821</td>\n",
       "      <td>40.737547</td>\n",
       "      <td>-73.998060</td>\n",
       "      <td>40.722788</td>\n",
       "      <td>2</td>\n",
       "      <td>2011-04-05</td>\n",
       "      <td>5</td>\n",
       "      <td>13</td>\n",
       "      <td>Tuesday</td>\n",
       "      <td>4</td>\n",
       "      <td>2011</td>\n",
       "      <td>1</td>\n",
       "    </tr>\n",
       "    <tr>\n",
       "      <th>15</th>\n",
       "      <td>5.0</td>\n",
       "      <td>0.000000</td>\n",
       "      <td>0.000000</td>\n",
       "      <td>0.000000</td>\n",
       "      <td>0.000000</td>\n",
       "      <td>1</td>\n",
       "      <td>2013-11-23</td>\n",
       "      <td>23</td>\n",
       "      <td>8</td>\n",
       "      <td>Saturday</td>\n",
       "      <td>11</td>\n",
       "      <td>2013</td>\n",
       "      <td>0</td>\n",
       "    </tr>\n",
       "    <tr>\n",
       "      <th>16</th>\n",
       "      <td>12.5</td>\n",
       "      <td>-73.986430</td>\n",
       "      <td>40.760465</td>\n",
       "      <td>-73.988990</td>\n",
       "      <td>40.737075</td>\n",
       "      <td>1</td>\n",
       "      <td>2014-02-19</td>\n",
       "      <td>19</td>\n",
       "      <td>3</td>\n",
       "      <td>Wednesday</td>\n",
       "      <td>2</td>\n",
       "      <td>2014</td>\n",
       "      <td>0</td>\n",
       "    </tr>\n",
       "    <tr>\n",
       "      <th>17</th>\n",
       "      <td>5.3</td>\n",
       "      <td>-73.981060</td>\n",
       "      <td>40.737690</td>\n",
       "      <td>-73.994177</td>\n",
       "      <td>40.728412</td>\n",
       "      <td>1</td>\n",
       "      <td>2009-07-22</td>\n",
       "      <td>22</td>\n",
       "      <td>12</td>\n",
       "      <td>Wednesday</td>\n",
       "      <td>7</td>\n",
       "      <td>2009</td>\n",
       "      <td>1</td>\n",
       "    </tr>\n",
       "    <tr>\n",
       "      <th>18</th>\n",
       "      <td>5.3</td>\n",
       "      <td>-73.969505</td>\n",
       "      <td>40.784843</td>\n",
       "      <td>-73.958732</td>\n",
       "      <td>40.783357</td>\n",
       "      <td>1</td>\n",
       "      <td>2010-07-07</td>\n",
       "      <td>7</td>\n",
       "      <td>10</td>\n",
       "      <td>Wednesday</td>\n",
       "      <td>7</td>\n",
       "      <td>2010</td>\n",
       "      <td>0</td>\n",
       "    </tr>\n",
       "    <tr>\n",
       "      <th>19</th>\n",
       "      <td>4.0</td>\n",
       "      <td>-73.979815</td>\n",
       "      <td>40.751902</td>\n",
       "      <td>-73.979446</td>\n",
       "      <td>40.755481</td>\n",
       "      <td>1</td>\n",
       "      <td>2014-12-06</td>\n",
       "      <td>6</td>\n",
       "      <td>16</td>\n",
       "      <td>Saturday</td>\n",
       "      <td>12</td>\n",
       "      <td>2014</td>\n",
       "      <td>1</td>\n",
       "    </tr>\n",
       "  </tbody>\n",
       "</table>\n",
       "</div>"
      ],
      "text/plain": [
       "    amount  longitude_of_pickup  latitude_of_pickup  longitude_of_dropoff  \\\n",
       "0      4.5           -73.844311           40.721319            -73.841610   \n",
       "1     16.9           -74.016048           40.711303            -73.979268   \n",
       "2      5.7           -73.982738           40.761270            -73.991242   \n",
       "3      7.7           -73.987130           40.733143            -73.991567   \n",
       "4      5.3           -73.968095           40.768008            -73.956655   \n",
       "5     12.1           -74.000964           40.731630            -73.972892   \n",
       "6      7.5           -73.980002           40.751662            -73.973802   \n",
       "7     16.5           -73.951300           40.774138            -73.990095   \n",
       "8      9.0           -74.006462           40.726713            -73.993078   \n",
       "9      8.9           -73.980658           40.733873            -73.991540   \n",
       "10     5.3           -73.996335           40.737142            -73.980721   \n",
       "11     5.5             0.000000            0.000000              0.000000   \n",
       "12     4.1           -73.991601           40.744712            -73.983081   \n",
       "13     7.0           -74.005360           40.728867            -74.008913   \n",
       "14     7.7           -74.001821           40.737547            -73.998060   \n",
       "15     5.0             0.000000            0.000000              0.000000   \n",
       "16    12.5           -73.986430           40.760465            -73.988990   \n",
       "17     5.3           -73.981060           40.737690            -73.994177   \n",
       "18     5.3           -73.969505           40.784843            -73.958732   \n",
       "19     4.0           -73.979815           40.751902            -73.979446   \n",
       "\n",
       "    latitude_of_dropoff  no_of_passenger pickup_date  pickup_day  pickup_hour  \\\n",
       "0             40.712278                1  2009-06-15          15           13   \n",
       "1             40.782004                1  2010-01-05           5           12   \n",
       "2             40.750562                2  2011-08-17          17           20   \n",
       "3             40.758092                1  2012-04-21          21            0   \n",
       "4             40.783762                1  2010-03-09           9            3   \n",
       "5             40.758233                1  2011-01-06           6            5   \n",
       "6             40.764842                1  2012-11-20          20           16   \n",
       "7             40.751048                1  2012-01-04           4           13   \n",
       "8             40.731628                1  2012-12-03           3            9   \n",
       "9             40.758138                2  2009-09-01           1           21   \n",
       "10            40.733559                1  2012-04-08           8            3   \n",
       "11             0.000000                3  2012-12-24          24            7   \n",
       "12            40.744682                2  2009-11-05           5           21   \n",
       "13            40.710907                1  2013-07-02           2           15   \n",
       "14            40.722788                2  2011-04-05           5           13   \n",
       "15             0.000000                1  2013-11-23          23            8   \n",
       "16            40.737075                1  2014-02-19          19            3   \n",
       "17            40.728412                1  2009-07-22          22           12   \n",
       "18            40.783357                1  2010-07-07           7           10   \n",
       "19            40.755481                1  2014-12-06           6           16   \n",
       "\n",
       "   pickup_day_of_week  pickup_month  pickup_year  mornight  \n",
       "0              Monday             6         2009         1  \n",
       "1             Tuesday             1         2010         1  \n",
       "2           Wednesday             8         2011         1  \n",
       "3            Saturday             4         2012         0  \n",
       "4             Tuesday             3         2010         0  \n",
       "5            Thursday             1         2011         0  \n",
       "6             Tuesday            11         2012         1  \n",
       "7           Wednesday             1         2012         1  \n",
       "8              Monday            12         2012         0  \n",
       "9             Tuesday             9         2009         1  \n",
       "10             Sunday             4         2012         0  \n",
       "11             Monday            12         2012         0  \n",
       "12           Thursday            11         2009         1  \n",
       "13            Tuesday             7         2013         1  \n",
       "14            Tuesday             4         2011         1  \n",
       "15           Saturday            11         2013         0  \n",
       "16          Wednesday             2         2014         0  \n",
       "17          Wednesday             7         2009         1  \n",
       "18          Wednesday             7         2010         0  \n",
       "19           Saturday            12         2014         1  "
      ]
     },
     "execution_count": 69,
     "metadata": {},
     "output_type": "execute_result"
    }
   ],
   "source": [
    "taxi.head(20) "
   ]
  },
  {
   "cell_type": "code",
   "execution_count": 19,
   "id": "d0f6d21a",
   "metadata": {},
   "outputs": [
    {
     "data": {
      "text/html": [
       "<div>\n",
       "<style scoped>\n",
       "    .dataframe tbody tr th:only-of-type {\n",
       "        vertical-align: middle;\n",
       "    }\n",
       "\n",
       "    .dataframe tbody tr th {\n",
       "        vertical-align: top;\n",
       "    }\n",
       "\n",
       "    .dataframe thead th {\n",
       "        text-align: right;\n",
       "    }\n",
       "</style>\n",
       "<table border=\"1\" class=\"dataframe\">\n",
       "  <thead>\n",
       "    <tr style=\"text-align: right;\">\n",
       "      <th></th>\n",
       "      <th>amount</th>\n",
       "      <th>longitude_of_pickup</th>\n",
       "      <th>latitude_of_pickup</th>\n",
       "      <th>longitude_of_dropoff</th>\n",
       "      <th>latitude_of_dropoff</th>\n",
       "      <th>no_of_passenger</th>\n",
       "    </tr>\n",
       "  </thead>\n",
       "  <tbody>\n",
       "    <tr>\n",
       "      <th>count</th>\n",
       "      <td>50000.000000</td>\n",
       "      <td>50000.000000</td>\n",
       "      <td>50000.000000</td>\n",
       "      <td>50000.000000</td>\n",
       "      <td>50000.000000</td>\n",
       "      <td>50000.000000</td>\n",
       "    </tr>\n",
       "    <tr>\n",
       "      <th>mean</th>\n",
       "      <td>11.364171</td>\n",
       "      <td>-72.509756</td>\n",
       "      <td>39.933759</td>\n",
       "      <td>-72.504616</td>\n",
       "      <td>39.926251</td>\n",
       "      <td>1.667840</td>\n",
       "    </tr>\n",
       "    <tr>\n",
       "      <th>std</th>\n",
       "      <td>9.685557</td>\n",
       "      <td>10.393860</td>\n",
       "      <td>6.224857</td>\n",
       "      <td>10.407570</td>\n",
       "      <td>6.014737</td>\n",
       "      <td>1.289195</td>\n",
       "    </tr>\n",
       "    <tr>\n",
       "      <th>min</th>\n",
       "      <td>-5.000000</td>\n",
       "      <td>-75.423848</td>\n",
       "      <td>-74.006893</td>\n",
       "      <td>-84.654241</td>\n",
       "      <td>-74.006377</td>\n",
       "      <td>0.000000</td>\n",
       "    </tr>\n",
       "    <tr>\n",
       "      <th>25%</th>\n",
       "      <td>6.000000</td>\n",
       "      <td>-73.992062</td>\n",
       "      <td>40.734880</td>\n",
       "      <td>-73.991152</td>\n",
       "      <td>40.734372</td>\n",
       "      <td>1.000000</td>\n",
       "    </tr>\n",
       "    <tr>\n",
       "      <th>50%</th>\n",
       "      <td>8.500000</td>\n",
       "      <td>-73.981840</td>\n",
       "      <td>40.752678</td>\n",
       "      <td>-73.980082</td>\n",
       "      <td>40.753372</td>\n",
       "      <td>1.000000</td>\n",
       "    </tr>\n",
       "    <tr>\n",
       "      <th>75%</th>\n",
       "      <td>12.500000</td>\n",
       "      <td>-73.967148</td>\n",
       "      <td>40.767360</td>\n",
       "      <td>-73.963584</td>\n",
       "      <td>40.768167</td>\n",
       "      <td>2.000000</td>\n",
       "    </tr>\n",
       "    <tr>\n",
       "      <th>max</th>\n",
       "      <td>200.000000</td>\n",
       "      <td>40.783472</td>\n",
       "      <td>401.083332</td>\n",
       "      <td>40.851027</td>\n",
       "      <td>43.415190</td>\n",
       "      <td>6.000000</td>\n",
       "    </tr>\n",
       "  </tbody>\n",
       "</table>\n",
       "</div>"
      ],
      "text/plain": [
       "             amount  longitude_of_pickup  latitude_of_pickup  \\\n",
       "count  50000.000000         50000.000000        50000.000000   \n",
       "mean      11.364171           -72.509756           39.933759   \n",
       "std        9.685557            10.393860            6.224857   \n",
       "min       -5.000000           -75.423848          -74.006893   \n",
       "25%        6.000000           -73.992062           40.734880   \n",
       "50%        8.500000           -73.981840           40.752678   \n",
       "75%       12.500000           -73.967148           40.767360   \n",
       "max      200.000000            40.783472          401.083332   \n",
       "\n",
       "       longitude_of_dropoff  latitude_of_dropoff  no_of_passenger  \n",
       "count          50000.000000         50000.000000     50000.000000  \n",
       "mean             -72.504616            39.926251         1.667840  \n",
       "std               10.407570             6.014737         1.289195  \n",
       "min              -84.654241           -74.006377         0.000000  \n",
       "25%              -73.991152            40.734372         1.000000  \n",
       "50%              -73.980082            40.753372         1.000000  \n",
       "75%              -73.963584            40.768167         2.000000  \n",
       "max               40.851027            43.415190         6.000000  "
      ]
     },
     "execution_count": 19,
     "metadata": {},
     "output_type": "execute_result"
    }
   ],
   "source": [
    "taxi.describe()"
   ]
  },
  {
   "cell_type": "code",
   "execution_count": 20,
   "id": "1362cb60",
   "metadata": {},
   "outputs": [
    {
     "data": {
      "text/html": [
       "<div>\n",
       "<style scoped>\n",
       "    .dataframe tbody tr th:only-of-type {\n",
       "        vertical-align: middle;\n",
       "    }\n",
       "\n",
       "    .dataframe tbody tr th {\n",
       "        vertical-align: top;\n",
       "    }\n",
       "\n",
       "    .dataframe thead th {\n",
       "        text-align: right;\n",
       "    }\n",
       "</style>\n",
       "<table border=\"1\" class=\"dataframe\">\n",
       "  <thead>\n",
       "    <tr style=\"text-align: right;\">\n",
       "      <th></th>\n",
       "      <th>unique_id</th>\n",
       "      <th>amount</th>\n",
       "      <th>date_time_of_pickup</th>\n",
       "      <th>longitude_of_pickup</th>\n",
       "      <th>latitude_of_pickup</th>\n",
       "      <th>longitude_of_dropoff</th>\n",
       "      <th>latitude_of_dropoff</th>\n",
       "      <th>no_of_passenger</th>\n",
       "    </tr>\n",
       "  </thead>\n",
       "  <tbody>\n",
       "    <tr>\n",
       "      <th>count</th>\n",
       "      <td>50000</td>\n",
       "      <td>50000.000000</td>\n",
       "      <td>50000</td>\n",
       "      <td>50000.000000</td>\n",
       "      <td>50000.000000</td>\n",
       "      <td>50000.000000</td>\n",
       "      <td>50000.000000</td>\n",
       "      <td>50000.000000</td>\n",
       "    </tr>\n",
       "    <tr>\n",
       "      <th>unique</th>\n",
       "      <td>3597</td>\n",
       "      <td>NaN</td>\n",
       "      <td>49555</td>\n",
       "      <td>NaN</td>\n",
       "      <td>NaN</td>\n",
       "      <td>NaN</td>\n",
       "      <td>NaN</td>\n",
       "      <td>NaN</td>\n",
       "    </tr>\n",
       "    <tr>\n",
       "      <th>top</th>\n",
       "      <td>26:00.0</td>\n",
       "      <td>NaN</td>\n",
       "      <td>2011-09-03 01:30:00 UTC</td>\n",
       "      <td>NaN</td>\n",
       "      <td>NaN</td>\n",
       "      <td>NaN</td>\n",
       "      <td>NaN</td>\n",
       "      <td>NaN</td>\n",
       "    </tr>\n",
       "    <tr>\n",
       "      <th>freq</th>\n",
       "      <td>457</td>\n",
       "      <td>NaN</td>\n",
       "      <td>3</td>\n",
       "      <td>NaN</td>\n",
       "      <td>NaN</td>\n",
       "      <td>NaN</td>\n",
       "      <td>NaN</td>\n",
       "      <td>NaN</td>\n",
       "    </tr>\n",
       "    <tr>\n",
       "      <th>mean</th>\n",
       "      <td>NaN</td>\n",
       "      <td>11.364171</td>\n",
       "      <td>NaN</td>\n",
       "      <td>-72.509756</td>\n",
       "      <td>39.933759</td>\n",
       "      <td>-72.504616</td>\n",
       "      <td>39.926251</td>\n",
       "      <td>1.667840</td>\n",
       "    </tr>\n",
       "    <tr>\n",
       "      <th>std</th>\n",
       "      <td>NaN</td>\n",
       "      <td>9.685557</td>\n",
       "      <td>NaN</td>\n",
       "      <td>10.393860</td>\n",
       "      <td>6.224857</td>\n",
       "      <td>10.407570</td>\n",
       "      <td>6.014737</td>\n",
       "      <td>1.289195</td>\n",
       "    </tr>\n",
       "    <tr>\n",
       "      <th>min</th>\n",
       "      <td>NaN</td>\n",
       "      <td>-5.000000</td>\n",
       "      <td>NaN</td>\n",
       "      <td>-75.423848</td>\n",
       "      <td>-74.006893</td>\n",
       "      <td>-84.654241</td>\n",
       "      <td>-74.006377</td>\n",
       "      <td>0.000000</td>\n",
       "    </tr>\n",
       "    <tr>\n",
       "      <th>25%</th>\n",
       "      <td>NaN</td>\n",
       "      <td>6.000000</td>\n",
       "      <td>NaN</td>\n",
       "      <td>-73.992062</td>\n",
       "      <td>40.734880</td>\n",
       "      <td>-73.991152</td>\n",
       "      <td>40.734372</td>\n",
       "      <td>1.000000</td>\n",
       "    </tr>\n",
       "    <tr>\n",
       "      <th>50%</th>\n",
       "      <td>NaN</td>\n",
       "      <td>8.500000</td>\n",
       "      <td>NaN</td>\n",
       "      <td>-73.981840</td>\n",
       "      <td>40.752678</td>\n",
       "      <td>-73.980082</td>\n",
       "      <td>40.753372</td>\n",
       "      <td>1.000000</td>\n",
       "    </tr>\n",
       "    <tr>\n",
       "      <th>75%</th>\n",
       "      <td>NaN</td>\n",
       "      <td>12.500000</td>\n",
       "      <td>NaN</td>\n",
       "      <td>-73.967148</td>\n",
       "      <td>40.767360</td>\n",
       "      <td>-73.963584</td>\n",
       "      <td>40.768167</td>\n",
       "      <td>2.000000</td>\n",
       "    </tr>\n",
       "    <tr>\n",
       "      <th>max</th>\n",
       "      <td>NaN</td>\n",
       "      <td>200.000000</td>\n",
       "      <td>NaN</td>\n",
       "      <td>40.783472</td>\n",
       "      <td>401.083332</td>\n",
       "      <td>40.851027</td>\n",
       "      <td>43.415190</td>\n",
       "      <td>6.000000</td>\n",
       "    </tr>\n",
       "  </tbody>\n",
       "</table>\n",
       "</div>"
      ],
      "text/plain": [
       "       unique_id        amount      date_time_of_pickup  longitude_of_pickup  \\\n",
       "count      50000  50000.000000                    50000         50000.000000   \n",
       "unique      3597           NaN                    49555                  NaN   \n",
       "top      26:00.0           NaN  2011-09-03 01:30:00 UTC                  NaN   \n",
       "freq         457           NaN                        3                  NaN   \n",
       "mean         NaN     11.364171                      NaN           -72.509756   \n",
       "std          NaN      9.685557                      NaN            10.393860   \n",
       "min          NaN     -5.000000                      NaN           -75.423848   \n",
       "25%          NaN      6.000000                      NaN           -73.992062   \n",
       "50%          NaN      8.500000                      NaN           -73.981840   \n",
       "75%          NaN     12.500000                      NaN           -73.967148   \n",
       "max          NaN    200.000000                      NaN            40.783472   \n",
       "\n",
       "        latitude_of_pickup  longitude_of_dropoff  latitude_of_dropoff  \\\n",
       "count         50000.000000          50000.000000         50000.000000   \n",
       "unique                 NaN                   NaN                  NaN   \n",
       "top                    NaN                   NaN                  NaN   \n",
       "freq                   NaN                   NaN                  NaN   \n",
       "mean             39.933759            -72.504616            39.926251   \n",
       "std               6.224857             10.407570             6.014737   \n",
       "min             -74.006893            -84.654241           -74.006377   \n",
       "25%              40.734880            -73.991152            40.734372   \n",
       "50%              40.752678            -73.980082            40.753372   \n",
       "75%              40.767360            -73.963584            40.768167   \n",
       "max             401.083332             40.851027            43.415190   \n",
       "\n",
       "        no_of_passenger  \n",
       "count      50000.000000  \n",
       "unique              NaN  \n",
       "top                 NaN  \n",
       "freq                NaN  \n",
       "mean           1.667840  \n",
       "std            1.289195  \n",
       "min            0.000000  \n",
       "25%            1.000000  \n",
       "50%            1.000000  \n",
       "75%            2.000000  \n",
       "max            6.000000  "
      ]
     },
     "execution_count": 20,
     "metadata": {},
     "output_type": "execute_result"
    }
   ],
   "source": [
    "taxi.describe(include=\"all\")"
   ]
  },
  {
   "cell_type": "code",
   "execution_count": 21,
   "id": "938e43cd",
   "metadata": {},
   "outputs": [
    {
     "data": {
      "text/plain": [
       "unique_id               0\n",
       "amount                  0\n",
       "date_time_of_pickup     0\n",
       "longitude_of_pickup     0\n",
       "latitude_of_pickup      0\n",
       "longitude_of_dropoff    0\n",
       "latitude_of_dropoff     0\n",
       "no_of_passenger         0\n",
       "dtype: int64"
      ]
     },
     "execution_count": 21,
     "metadata": {},
     "output_type": "execute_result"
    }
   ],
   "source": [
    "taxi.isnull().sum()"
   ]
  },
  {
   "cell_type": "code",
   "execution_count": 22,
   "id": "2a1df154",
   "metadata": {},
   "outputs": [
    {
     "data": {
      "text/plain": [
       "unique_id                object\n",
       "amount                  float64\n",
       "date_time_of_pickup      object\n",
       "longitude_of_pickup     float64\n",
       "latitude_of_pickup      float64\n",
       "longitude_of_dropoff    float64\n",
       "latitude_of_dropoff     float64\n",
       "no_of_passenger           int64\n",
       "dtype: object"
      ]
     },
     "execution_count": 22,
     "metadata": {},
     "output_type": "execute_result"
    }
   ],
   "source": [
    "taxi.dtypes"
   ]
  },
  {
   "cell_type": "code",
   "execution_count": 23,
   "id": "672ddccf",
   "metadata": {},
   "outputs": [
    {
     "name": "stdout",
     "output_type": "stream",
     "text": [
      "<class 'pandas.core.frame.DataFrame'>\n",
      "RangeIndex: 50000 entries, 0 to 49999\n",
      "Data columns (total 8 columns):\n",
      " #   Column                Non-Null Count  Dtype  \n",
      "---  ------                --------------  -----  \n",
      " 0   unique_id             50000 non-null  object \n",
      " 1   amount                50000 non-null  float64\n",
      " 2   date_time_of_pickup   50000 non-null  object \n",
      " 3   longitude_of_pickup   50000 non-null  float64\n",
      " 4   latitude_of_pickup    50000 non-null  float64\n",
      " 5   longitude_of_dropoff  50000 non-null  float64\n",
      " 6   latitude_of_dropoff   50000 non-null  float64\n",
      " 7   no_of_passenger       50000 non-null  int64  \n",
      "dtypes: float64(5), int64(1), object(2)\n",
      "memory usage: 3.1+ MB\n"
     ]
    }
   ],
   "source": [
    "taxi.info()"
   ]
  },
  {
   "cell_type": "code",
   "execution_count": 24,
   "id": "dd2850b0",
   "metadata": {},
   "outputs": [
    {
     "data": {
      "text/plain": [
       "(50000, 8)"
      ]
     },
     "execution_count": 24,
     "metadata": {},
     "output_type": "execute_result"
    }
   ],
   "source": [
    "taxi.shape"
   ]
  },
  {
   "cell_type": "code",
   "execution_count": 25,
   "id": "e512ab38",
   "metadata": {},
   "outputs": [
    {
     "data": {
      "text/html": [
       "<div>\n",
       "<style scoped>\n",
       "    .dataframe tbody tr th:only-of-type {\n",
       "        vertical-align: middle;\n",
       "    }\n",
       "\n",
       "    .dataframe tbody tr th {\n",
       "        vertical-align: top;\n",
       "    }\n",
       "\n",
       "    .dataframe thead th {\n",
       "        text-align: right;\n",
       "    }\n",
       "</style>\n",
       "<table border=\"1\" class=\"dataframe\">\n",
       "  <thead>\n",
       "    <tr style=\"text-align: right;\">\n",
       "      <th></th>\n",
       "      <th>unique_id</th>\n",
       "      <th>amount</th>\n",
       "      <th>date_time_of_pickup</th>\n",
       "      <th>longitude_of_pickup</th>\n",
       "      <th>latitude_of_pickup</th>\n",
       "      <th>longitude_of_dropoff</th>\n",
       "      <th>latitude_of_dropoff</th>\n",
       "      <th>no_of_passenger</th>\n",
       "    </tr>\n",
       "  </thead>\n",
       "  <tbody>\n",
       "    <tr>\n",
       "      <th>47820</th>\n",
       "      <td>30:18.0</td>\n",
       "      <td>21.0</td>\n",
       "      <td>2012-11-03 21:30:18 UTC</td>\n",
       "      <td>-73.949062</td>\n",
       "      <td>40.797232</td>\n",
       "      <td>-73.992181</td>\n",
       "      <td>40.749013</td>\n",
       "      <td>1</td>\n",
       "    </tr>\n",
       "    <tr>\n",
       "      <th>40748</th>\n",
       "      <td>33:23.0</td>\n",
       "      <td>8.1</td>\n",
       "      <td>2011-09-14 22:33:23 UTC</td>\n",
       "      <td>-74.001985</td>\n",
       "      <td>40.724439</td>\n",
       "      <td>-74.011412</td>\n",
       "      <td>40.707096</td>\n",
       "      <td>1</td>\n",
       "    </tr>\n",
       "    <tr>\n",
       "      <th>31073</th>\n",
       "      <td>06:22.0</td>\n",
       "      <td>12.9</td>\n",
       "      <td>2011-11-09 04:06:22 UTC</td>\n",
       "      <td>-73.991989</td>\n",
       "      <td>40.740074</td>\n",
       "      <td>-73.976911</td>\n",
       "      <td>40.733675</td>\n",
       "      <td>1</td>\n",
       "    </tr>\n",
       "    <tr>\n",
       "      <th>4788</th>\n",
       "      <td>22:20.0</td>\n",
       "      <td>11.7</td>\n",
       "      <td>2009-02-16 11:22:20 UTC</td>\n",
       "      <td>-73.968224</td>\n",
       "      <td>40.754568</td>\n",
       "      <td>-73.995719</td>\n",
       "      <td>40.709330</td>\n",
       "      <td>1</td>\n",
       "    </tr>\n",
       "    <tr>\n",
       "      <th>38332</th>\n",
       "      <td>07:00.0</td>\n",
       "      <td>9.3</td>\n",
       "      <td>2009-03-02 06:07:00 UTC</td>\n",
       "      <td>-74.009327</td>\n",
       "      <td>40.702697</td>\n",
       "      <td>-73.977943</td>\n",
       "      <td>40.690357</td>\n",
       "      <td>5</td>\n",
       "    </tr>\n",
       "    <tr>\n",
       "      <th>17783</th>\n",
       "      <td>11:37.0</td>\n",
       "      <td>10.1</td>\n",
       "      <td>2010-02-15 22:11:37 UTC</td>\n",
       "      <td>-73.994680</td>\n",
       "      <td>40.680529</td>\n",
       "      <td>-74.009704</td>\n",
       "      <td>40.711531</td>\n",
       "      <td>1</td>\n",
       "    </tr>\n",
       "    <tr>\n",
       "      <th>19691</th>\n",
       "      <td>45:17.0</td>\n",
       "      <td>11.5</td>\n",
       "      <td>2013-03-29 16:45:17 UTC</td>\n",
       "      <td>-73.965236</td>\n",
       "      <td>40.774794</td>\n",
       "      <td>-73.970771</td>\n",
       "      <td>40.758681</td>\n",
       "      <td>1</td>\n",
       "    </tr>\n",
       "    <tr>\n",
       "      <th>6243</th>\n",
       "      <td>01:58.0</td>\n",
       "      <td>5.7</td>\n",
       "      <td>2011-12-10 00:01:58 UTC</td>\n",
       "      <td>-73.983287</td>\n",
       "      <td>40.726089</td>\n",
       "      <td>-73.998854</td>\n",
       "      <td>40.734238</td>\n",
       "      <td>1</td>\n",
       "    </tr>\n",
       "    <tr>\n",
       "      <th>30091</th>\n",
       "      <td>23:33.0</td>\n",
       "      <td>7.4</td>\n",
       "      <td>2009-03-29 20:23:33 UTC</td>\n",
       "      <td>-73.987985</td>\n",
       "      <td>40.750772</td>\n",
       "      <td>-73.973610</td>\n",
       "      <td>40.755567</td>\n",
       "      <td>1</td>\n",
       "    </tr>\n",
       "    <tr>\n",
       "      <th>38655</th>\n",
       "      <td>49:12.0</td>\n",
       "      <td>17.5</td>\n",
       "      <td>2014-03-03 07:49:12 UTC</td>\n",
       "      <td>-74.007129</td>\n",
       "      <td>40.704070</td>\n",
       "      <td>-73.970274</td>\n",
       "      <td>40.758168</td>\n",
       "      <td>1</td>\n",
       "    </tr>\n",
       "  </tbody>\n",
       "</table>\n",
       "</div>"
      ],
      "text/plain": [
       "      unique_id  amount      date_time_of_pickup  longitude_of_pickup  \\\n",
       "47820   30:18.0    21.0  2012-11-03 21:30:18 UTC           -73.949062   \n",
       "40748   33:23.0     8.1  2011-09-14 22:33:23 UTC           -74.001985   \n",
       "31073   06:22.0    12.9  2011-11-09 04:06:22 UTC           -73.991989   \n",
       "4788    22:20.0    11.7  2009-02-16 11:22:20 UTC           -73.968224   \n",
       "38332   07:00.0     9.3  2009-03-02 06:07:00 UTC           -74.009327   \n",
       "17783   11:37.0    10.1  2010-02-15 22:11:37 UTC           -73.994680   \n",
       "19691   45:17.0    11.5  2013-03-29 16:45:17 UTC           -73.965236   \n",
       "6243    01:58.0     5.7  2011-12-10 00:01:58 UTC           -73.983287   \n",
       "30091   23:33.0     7.4  2009-03-29 20:23:33 UTC           -73.987985   \n",
       "38655   49:12.0    17.5  2014-03-03 07:49:12 UTC           -74.007129   \n",
       "\n",
       "       latitude_of_pickup  longitude_of_dropoff  latitude_of_dropoff  \\\n",
       "47820           40.797232            -73.992181            40.749013   \n",
       "40748           40.724439            -74.011412            40.707096   \n",
       "31073           40.740074            -73.976911            40.733675   \n",
       "4788            40.754568            -73.995719            40.709330   \n",
       "38332           40.702697            -73.977943            40.690357   \n",
       "17783           40.680529            -74.009704            40.711531   \n",
       "19691           40.774794            -73.970771            40.758681   \n",
       "6243            40.726089            -73.998854            40.734238   \n",
       "30091           40.750772            -73.973610            40.755567   \n",
       "38655           40.704070            -73.970274            40.758168   \n",
       "\n",
       "       no_of_passenger  \n",
       "47820                1  \n",
       "40748                1  \n",
       "31073                1  \n",
       "4788                 1  \n",
       "38332                5  \n",
       "17783                1  \n",
       "19691                1  \n",
       "6243                 1  \n",
       "30091                1  \n",
       "38655                1  "
      ]
     },
     "execution_count": 25,
     "metadata": {},
     "output_type": "execute_result"
    }
   ],
   "source": [
    "taxi.sample(10)"
   ]
  },
  {
   "cell_type": "code",
   "execution_count": 28,
   "id": "8a86abd9",
   "metadata": {},
   "outputs": [],
   "source": [
    "taxi.drop([\"unique_id\"],axis=1,inplace=True)"
   ]
  },
  {
   "cell_type": "code",
   "execution_count": 29,
   "id": "0dd4d22c",
   "metadata": {},
   "outputs": [
    {
     "data": {
      "text/html": [
       "<div>\n",
       "<style scoped>\n",
       "    .dataframe tbody tr th:only-of-type {\n",
       "        vertical-align: middle;\n",
       "    }\n",
       "\n",
       "    .dataframe tbody tr th {\n",
       "        vertical-align: top;\n",
       "    }\n",
       "\n",
       "    .dataframe thead th {\n",
       "        text-align: right;\n",
       "    }\n",
       "</style>\n",
       "<table border=\"1\" class=\"dataframe\">\n",
       "  <thead>\n",
       "    <tr style=\"text-align: right;\">\n",
       "      <th></th>\n",
       "      <th>amount</th>\n",
       "      <th>date_time_of_pickup</th>\n",
       "      <th>longitude_of_pickup</th>\n",
       "      <th>latitude_of_pickup</th>\n",
       "      <th>longitude_of_dropoff</th>\n",
       "      <th>latitude_of_dropoff</th>\n",
       "      <th>no_of_passenger</th>\n",
       "    </tr>\n",
       "  </thead>\n",
       "  <tbody>\n",
       "    <tr>\n",
       "      <th>0</th>\n",
       "      <td>4.5</td>\n",
       "      <td>2009-06-15 17:26:21 UTC</td>\n",
       "      <td>-73.844311</td>\n",
       "      <td>40.721319</td>\n",
       "      <td>-73.841610</td>\n",
       "      <td>40.712278</td>\n",
       "      <td>1</td>\n",
       "    </tr>\n",
       "    <tr>\n",
       "      <th>1</th>\n",
       "      <td>16.9</td>\n",
       "      <td>2010-01-05 16:52:16 UTC</td>\n",
       "      <td>-74.016048</td>\n",
       "      <td>40.711303</td>\n",
       "      <td>-73.979268</td>\n",
       "      <td>40.782004</td>\n",
       "      <td>1</td>\n",
       "    </tr>\n",
       "    <tr>\n",
       "      <th>2</th>\n",
       "      <td>5.7</td>\n",
       "      <td>2011-08-18 00:35:00 UTC</td>\n",
       "      <td>-73.982738</td>\n",
       "      <td>40.761270</td>\n",
       "      <td>-73.991242</td>\n",
       "      <td>40.750562</td>\n",
       "      <td>2</td>\n",
       "    </tr>\n",
       "    <tr>\n",
       "      <th>3</th>\n",
       "      <td>7.7</td>\n",
       "      <td>2012-04-21 04:30:42 UTC</td>\n",
       "      <td>-73.987130</td>\n",
       "      <td>40.733143</td>\n",
       "      <td>-73.991567</td>\n",
       "      <td>40.758092</td>\n",
       "      <td>1</td>\n",
       "    </tr>\n",
       "    <tr>\n",
       "      <th>4</th>\n",
       "      <td>5.3</td>\n",
       "      <td>2010-03-09 07:51:00 UTC</td>\n",
       "      <td>-73.968095</td>\n",
       "      <td>40.768008</td>\n",
       "      <td>-73.956655</td>\n",
       "      <td>40.783762</td>\n",
       "      <td>1</td>\n",
       "    </tr>\n",
       "  </tbody>\n",
       "</table>\n",
       "</div>"
      ],
      "text/plain": [
       "   amount      date_time_of_pickup  longitude_of_pickup  latitude_of_pickup  \\\n",
       "0     4.5  2009-06-15 17:26:21 UTC           -73.844311           40.721319   \n",
       "1    16.9  2010-01-05 16:52:16 UTC           -74.016048           40.711303   \n",
       "2     5.7  2011-08-18 00:35:00 UTC           -73.982738           40.761270   \n",
       "3     7.7  2012-04-21 04:30:42 UTC           -73.987130           40.733143   \n",
       "4     5.3  2010-03-09 07:51:00 UTC           -73.968095           40.768008   \n",
       "\n",
       "   longitude_of_dropoff  latitude_of_dropoff  no_of_passenger  \n",
       "0            -73.841610            40.712278                1  \n",
       "1            -73.979268            40.782004                1  \n",
       "2            -73.991242            40.750562                2  \n",
       "3            -73.991567            40.758092                1  \n",
       "4            -73.956655            40.783762                1  "
      ]
     },
     "execution_count": 29,
     "metadata": {},
     "output_type": "execute_result"
    }
   ],
   "source": [
    "taxi.head()"
   ]
  },
  {
   "cell_type": "code",
   "execution_count": 42,
   "id": "fbe41405",
   "metadata": {},
   "outputs": [],
   "source": [
    "import calendar\n",
    "import datetime"
   ]
  },
  {
   "cell_type": "code",
   "execution_count": 51,
   "id": "66d5067c",
   "metadata": {},
   "outputs": [
    {
     "data": {
      "text/plain": [
       "0       2009-06-15 17:26:21+00:00\n",
       "1       2010-01-05 16:52:16+00:00\n",
       "2       2011-08-18 00:35:00+00:00\n",
       "3       2012-04-21 04:30:42+00:00\n",
       "4       2010-03-09 07:51:00+00:00\n",
       "                   ...           \n",
       "49995   2013-06-12 23:25:15+00:00\n",
       "49996   2015-06-22 17:19:18+00:00\n",
       "49997   2011-01-30 04:53:00+00:00\n",
       "49998   2012-11-06 07:09:00+00:00\n",
       "49999   2010-01-13 08:13:14+00:00\n",
       "Name: date_time_of_pickup, Length: 50000, dtype: datetime64[ns, UTC]"
      ]
     },
     "execution_count": 51,
     "metadata": {},
     "output_type": "execute_result"
    }
   ],
   "source": [
    "pd.to_datetime(taxi['date_time_of_pickup'])"
   ]
  },
  {
   "cell_type": "code",
   "execution_count": 56,
   "id": "995354e3",
   "metadata": {},
   "outputs": [],
   "source": [
    "taxi['date_time_of_pickup']=pd.to_datetime(taxi['date_time_of_pickup'])-datetime.timedelta(hours=4)"
   ]
  },
  {
   "cell_type": "code",
   "execution_count": 57,
   "id": "4645a55d",
   "metadata": {},
   "outputs": [],
   "source": [
    "### taxi['Year']=taxi['date_time_of_pickup'].dt.year\n",
    "### taxi['Month']=taxi['date_time_of_pickup'].dt.month\n",
    "##  taxi['Day']=taxi['date_time_of_pickup'].dt.day\n",
    "##  taxi['Hours']=taxi['date_time_of_pickup'].dt.hour\n",
    "##  taxi['Minutes']=taxi['date_time_of_pickup'].dt.minute"
   ]
  },
  {
   "cell_type": "code",
   "execution_count": 58,
   "id": "0b24083b",
   "metadata": {},
   "outputs": [
    {
     "data": {
      "text/html": [
       "<div>\n",
       "<style scoped>\n",
       "    .dataframe tbody tr th:only-of-type {\n",
       "        vertical-align: middle;\n",
       "    }\n",
       "\n",
       "    .dataframe tbody tr th {\n",
       "        vertical-align: top;\n",
       "    }\n",
       "\n",
       "    .dataframe thead th {\n",
       "        text-align: right;\n",
       "    }\n",
       "</style>\n",
       "<table border=\"1\" class=\"dataframe\">\n",
       "  <thead>\n",
       "    <tr style=\"text-align: right;\">\n",
       "      <th></th>\n",
       "      <th>amount</th>\n",
       "      <th>date_time_of_pickup</th>\n",
       "      <th>longitude_of_pickup</th>\n",
       "      <th>latitude_of_pickup</th>\n",
       "      <th>longitude_of_dropoff</th>\n",
       "      <th>latitude_of_dropoff</th>\n",
       "      <th>no_of_passenger</th>\n",
       "      <th>pickup_date</th>\n",
       "      <th>pickup_day</th>\n",
       "      <th>pickup_hour</th>\n",
       "      <th>pickup_day_of_week</th>\n",
       "      <th>pickup_month</th>\n",
       "      <th>pickup_year</th>\n",
       "    </tr>\n",
       "  </thead>\n",
       "  <tbody>\n",
       "    <tr>\n",
       "      <th>0</th>\n",
       "      <td>4.5</td>\n",
       "      <td>2009-06-15 13:26:21+00:00</td>\n",
       "      <td>-73.844311</td>\n",
       "      <td>40.721319</td>\n",
       "      <td>-73.841610</td>\n",
       "      <td>40.712278</td>\n",
       "      <td>1</td>\n",
       "      <td>2009-06-15</td>\n",
       "      <td>15</td>\n",
       "      <td>13</td>\n",
       "      <td>Monday</td>\n",
       "      <td>6</td>\n",
       "      <td>2009</td>\n",
       "    </tr>\n",
       "    <tr>\n",
       "      <th>1</th>\n",
       "      <td>16.9</td>\n",
       "      <td>2010-01-05 12:52:16+00:00</td>\n",
       "      <td>-74.016048</td>\n",
       "      <td>40.711303</td>\n",
       "      <td>-73.979268</td>\n",
       "      <td>40.782004</td>\n",
       "      <td>1</td>\n",
       "      <td>2010-01-05</td>\n",
       "      <td>5</td>\n",
       "      <td>12</td>\n",
       "      <td>Tuesday</td>\n",
       "      <td>1</td>\n",
       "      <td>2010</td>\n",
       "    </tr>\n",
       "    <tr>\n",
       "      <th>2</th>\n",
       "      <td>5.7</td>\n",
       "      <td>2011-08-17 20:35:00+00:00</td>\n",
       "      <td>-73.982738</td>\n",
       "      <td>40.761270</td>\n",
       "      <td>-73.991242</td>\n",
       "      <td>40.750562</td>\n",
       "      <td>2</td>\n",
       "      <td>2011-08-17</td>\n",
       "      <td>17</td>\n",
       "      <td>20</td>\n",
       "      <td>Wednesday</td>\n",
       "      <td>8</td>\n",
       "      <td>2011</td>\n",
       "    </tr>\n",
       "    <tr>\n",
       "      <th>3</th>\n",
       "      <td>7.7</td>\n",
       "      <td>2012-04-21 00:30:42+00:00</td>\n",
       "      <td>-73.987130</td>\n",
       "      <td>40.733143</td>\n",
       "      <td>-73.991567</td>\n",
       "      <td>40.758092</td>\n",
       "      <td>1</td>\n",
       "      <td>2012-04-21</td>\n",
       "      <td>21</td>\n",
       "      <td>0</td>\n",
       "      <td>Saturday</td>\n",
       "      <td>4</td>\n",
       "      <td>2012</td>\n",
       "    </tr>\n",
       "    <tr>\n",
       "      <th>4</th>\n",
       "      <td>5.3</td>\n",
       "      <td>2010-03-09 03:51:00+00:00</td>\n",
       "      <td>-73.968095</td>\n",
       "      <td>40.768008</td>\n",
       "      <td>-73.956655</td>\n",
       "      <td>40.783762</td>\n",
       "      <td>1</td>\n",
       "      <td>2010-03-09</td>\n",
       "      <td>9</td>\n",
       "      <td>3</td>\n",
       "      <td>Tuesday</td>\n",
       "      <td>3</td>\n",
       "      <td>2010</td>\n",
       "    </tr>\n",
       "  </tbody>\n",
       "</table>\n",
       "</div>"
      ],
      "text/plain": [
       "   amount       date_time_of_pickup  longitude_of_pickup  latitude_of_pickup  \\\n",
       "0     4.5 2009-06-15 13:26:21+00:00           -73.844311           40.721319   \n",
       "1    16.9 2010-01-05 12:52:16+00:00           -74.016048           40.711303   \n",
       "2     5.7 2011-08-17 20:35:00+00:00           -73.982738           40.761270   \n",
       "3     7.7 2012-04-21 00:30:42+00:00           -73.987130           40.733143   \n",
       "4     5.3 2010-03-09 03:51:00+00:00           -73.968095           40.768008   \n",
       "\n",
       "   longitude_of_dropoff  latitude_of_dropoff  no_of_passenger pickup_date  \\\n",
       "0            -73.841610            40.712278                1  2009-06-15   \n",
       "1            -73.979268            40.782004                1  2010-01-05   \n",
       "2            -73.991242            40.750562                2  2011-08-17   \n",
       "3            -73.991567            40.758092                1  2012-04-21   \n",
       "4            -73.956655            40.783762                1  2010-03-09   \n",
       "\n",
       "   pickup_day  pickup_hour pickup_day_of_week  pickup_month  pickup_year  \n",
       "0          15           13             Monday             6         2009  \n",
       "1           5           12            Tuesday             1         2010  \n",
       "2          17           20          Wednesday             8         2011  \n",
       "3          21            0           Saturday             4         2012  \n",
       "4           9            3            Tuesday             3         2010  "
      ]
     },
     "execution_count": 58,
     "metadata": {},
     "output_type": "execute_result"
    }
   ],
   "source": [
    "taxi[\"pickup_date\"]=taxi[\"date_time_of_pickup\"].dt.date\n",
    "taxi[\"pickup_day\"]=taxi[\"date_time_of_pickup\"].apply(lambda x:x.day)\n",
    "taxi[\"pickup_hour\"]=taxi[\"date_time_of_pickup\"].apply(lambda x:x.hour)\n",
    "taxi[\"pickup_day_of_week\"]=taxi[\"date_time_of_pickup\"].apply(lambda x:calendar.day_name[x.weekday()])\n",
    "taxi[\"pickup_month\"]=taxi[\"date_time_of_pickup\"].apply(lambda x:x.month)\n",
    "taxi[\"pickup_year\"]=taxi[\"date_time_of_pickup\"].apply(lambda x:x.year)\n",
    "taxi.head()"
   ]
  },
  {
   "cell_type": "code",
   "execution_count": 59,
   "id": "65a817d3",
   "metadata": {},
   "outputs": [
    {
     "data": {
      "text/html": [
       "<div>\n",
       "<style scoped>\n",
       "    .dataframe tbody tr th:only-of-type {\n",
       "        vertical-align: middle;\n",
       "    }\n",
       "\n",
       "    .dataframe tbody tr th {\n",
       "        vertical-align: top;\n",
       "    }\n",
       "\n",
       "    .dataframe thead th {\n",
       "        text-align: right;\n",
       "    }\n",
       "</style>\n",
       "<table border=\"1\" class=\"dataframe\">\n",
       "  <thead>\n",
       "    <tr style=\"text-align: right;\">\n",
       "      <th></th>\n",
       "      <th>amount</th>\n",
       "      <th>longitude_of_pickup</th>\n",
       "      <th>latitude_of_pickup</th>\n",
       "      <th>longitude_of_dropoff</th>\n",
       "      <th>latitude_of_dropoff</th>\n",
       "      <th>no_of_passenger</th>\n",
       "      <th>pickup_day</th>\n",
       "      <th>pickup_hour</th>\n",
       "      <th>pickup_month</th>\n",
       "      <th>pickup_year</th>\n",
       "    </tr>\n",
       "  </thead>\n",
       "  <tbody>\n",
       "    <tr>\n",
       "      <th>count</th>\n",
       "      <td>50000.000000</td>\n",
       "      <td>50000.000000</td>\n",
       "      <td>50000.000000</td>\n",
       "      <td>50000.000000</td>\n",
       "      <td>50000.000000</td>\n",
       "      <td>50000.000000</td>\n",
       "      <td>50000.000000</td>\n",
       "      <td>50000.000000</td>\n",
       "      <td>50000.000000</td>\n",
       "      <td>50000.000000</td>\n",
       "    </tr>\n",
       "    <tr>\n",
       "      <th>mean</th>\n",
       "      <td>11.364171</td>\n",
       "      <td>-72.509756</td>\n",
       "      <td>39.933759</td>\n",
       "      <td>-72.504616</td>\n",
       "      <td>39.926251</td>\n",
       "      <td>1.667840</td>\n",
       "      <td>15.689260</td>\n",
       "      <td>12.037400</td>\n",
       "      <td>6.277660</td>\n",
       "      <td>2011.738560</td>\n",
       "    </tr>\n",
       "    <tr>\n",
       "      <th>std</th>\n",
       "      <td>9.685557</td>\n",
       "      <td>10.393860</td>\n",
       "      <td>6.224857</td>\n",
       "      <td>10.407570</td>\n",
       "      <td>6.014737</td>\n",
       "      <td>1.289195</td>\n",
       "      <td>8.660559</td>\n",
       "      <td>5.848911</td>\n",
       "      <td>3.461942</td>\n",
       "      <td>1.862804</td>\n",
       "    </tr>\n",
       "    <tr>\n",
       "      <th>min</th>\n",
       "      <td>-5.000000</td>\n",
       "      <td>-75.423848</td>\n",
       "      <td>-74.006893</td>\n",
       "      <td>-84.654241</td>\n",
       "      <td>-74.006377</td>\n",
       "      <td>0.000000</td>\n",
       "      <td>1.000000</td>\n",
       "      <td>0.000000</td>\n",
       "      <td>1.000000</td>\n",
       "      <td>2008.000000</td>\n",
       "    </tr>\n",
       "    <tr>\n",
       "      <th>25%</th>\n",
       "      <td>6.000000</td>\n",
       "      <td>-73.992062</td>\n",
       "      <td>40.734880</td>\n",
       "      <td>-73.991152</td>\n",
       "      <td>40.734372</td>\n",
       "      <td>1.000000</td>\n",
       "      <td>8.000000</td>\n",
       "      <td>7.000000</td>\n",
       "      <td>3.000000</td>\n",
       "      <td>2010.000000</td>\n",
       "    </tr>\n",
       "    <tr>\n",
       "      <th>50%</th>\n",
       "      <td>8.500000</td>\n",
       "      <td>-73.981840</td>\n",
       "      <td>40.752678</td>\n",
       "      <td>-73.980082</td>\n",
       "      <td>40.753372</td>\n",
       "      <td>1.000000</td>\n",
       "      <td>16.000000</td>\n",
       "      <td>12.000000</td>\n",
       "      <td>6.000000</td>\n",
       "      <td>2012.000000</td>\n",
       "    </tr>\n",
       "    <tr>\n",
       "      <th>75%</th>\n",
       "      <td>12.500000</td>\n",
       "      <td>-73.967148</td>\n",
       "      <td>40.767360</td>\n",
       "      <td>-73.963584</td>\n",
       "      <td>40.768167</td>\n",
       "      <td>2.000000</td>\n",
       "      <td>23.000000</td>\n",
       "      <td>17.000000</td>\n",
       "      <td>9.000000</td>\n",
       "      <td>2013.000000</td>\n",
       "    </tr>\n",
       "    <tr>\n",
       "      <th>max</th>\n",
       "      <td>200.000000</td>\n",
       "      <td>40.783472</td>\n",
       "      <td>401.083332</td>\n",
       "      <td>40.851027</td>\n",
       "      <td>43.415190</td>\n",
       "      <td>6.000000</td>\n",
       "      <td>31.000000</td>\n",
       "      <td>23.000000</td>\n",
       "      <td>12.000000</td>\n",
       "      <td>2015.000000</td>\n",
       "    </tr>\n",
       "  </tbody>\n",
       "</table>\n",
       "</div>"
      ],
      "text/plain": [
       "             amount  longitude_of_pickup  latitude_of_pickup  \\\n",
       "count  50000.000000         50000.000000        50000.000000   \n",
       "mean      11.364171           -72.509756           39.933759   \n",
       "std        9.685557            10.393860            6.224857   \n",
       "min       -5.000000           -75.423848          -74.006893   \n",
       "25%        6.000000           -73.992062           40.734880   \n",
       "50%        8.500000           -73.981840           40.752678   \n",
       "75%       12.500000           -73.967148           40.767360   \n",
       "max      200.000000            40.783472          401.083332   \n",
       "\n",
       "       longitude_of_dropoff  latitude_of_dropoff  no_of_passenger  \\\n",
       "count          50000.000000         50000.000000     50000.000000   \n",
       "mean             -72.504616            39.926251         1.667840   \n",
       "std               10.407570             6.014737         1.289195   \n",
       "min              -84.654241           -74.006377         0.000000   \n",
       "25%              -73.991152            40.734372         1.000000   \n",
       "50%              -73.980082            40.753372         1.000000   \n",
       "75%              -73.963584            40.768167         2.000000   \n",
       "max               40.851027            43.415190         6.000000   \n",
       "\n",
       "         pickup_day   pickup_hour  pickup_month   pickup_year  \n",
       "count  50000.000000  50000.000000  50000.000000  50000.000000  \n",
       "mean      15.689260     12.037400      6.277660   2011.738560  \n",
       "std        8.660559      5.848911      3.461942      1.862804  \n",
       "min        1.000000      0.000000      1.000000   2008.000000  \n",
       "25%        8.000000      7.000000      3.000000   2010.000000  \n",
       "50%       16.000000     12.000000      6.000000   2012.000000  \n",
       "75%       23.000000     17.000000      9.000000   2013.000000  \n",
       "max       31.000000     23.000000     12.000000   2015.000000  "
      ]
     },
     "execution_count": 59,
     "metadata": {},
     "output_type": "execute_result"
    }
   ],
   "source": [
    "taxi.describe()"
   ]
  },
  {
   "cell_type": "code",
   "execution_count": 62,
   "id": "a94c542b",
   "metadata": {},
   "outputs": [],
   "source": [
    "taxi['mornight']=np.where(taxi['pickup_hour']<12,0,1)"
   ]
  },
  {
   "cell_type": "code",
   "execution_count": 63,
   "id": "5d303ad3",
   "metadata": {},
   "outputs": [
    {
     "data": {
      "text/plain": [
       "amount                  0\n",
       "date_time_of_pickup     0\n",
       "longitude_of_pickup     0\n",
       "latitude_of_pickup      0\n",
       "longitude_of_dropoff    0\n",
       "latitude_of_dropoff     0\n",
       "no_of_passenger         0\n",
       "pickup_date             0\n",
       "pickup_day              0\n",
       "pickup_hour             0\n",
       "pickup_day_of_week      0\n",
       "pickup_month            0\n",
       "pickup_year             0\n",
       "mornight                0\n",
       "dtype: int64"
      ]
     },
     "execution_count": 63,
     "metadata": {},
     "output_type": "execute_result"
    }
   ],
   "source": [
    "taxi.isnull().sum()"
   ]
  },
  {
   "cell_type": "code",
   "execution_count": 64,
   "id": "c9351031",
   "metadata": {},
   "outputs": [
    {
     "data": {
      "text/plain": [
       "(50000, 14)"
      ]
     },
     "execution_count": 64,
     "metadata": {},
     "output_type": "execute_result"
    }
   ],
   "source": [
    "taxi.shape"
   ]
  },
  {
   "cell_type": "code",
   "execution_count": 92,
   "id": "5a1fc11e",
   "metadata": {},
   "outputs": [
    {
     "data": {
      "text/plain": [
       "array([40.712278  , 40.782004  , 40.750562  , ..., 40.705993  ,\n",
       "       40.76059723, 40.763805  ])"
      ]
     },
     "execution_count": 92,
     "metadata": {},
     "output_type": "execute_result"
    }
   ],
   "source": [
    "taxi[\"latitude_of_dropoff\"].unique()"
   ]
  },
  {
   "cell_type": "code",
   "execution_count": 66,
   "id": "dc2b724d",
   "metadata": {},
   "outputs": [],
   "source": [
    "taxi.drop([\"date_time_of_pickup\"],axis=1,inplace=True)"
   ]
  },
  {
   "cell_type": "code",
   "execution_count": 109,
   "id": "faaac76b",
   "metadata": {},
   "outputs": [
    {
     "data": {
      "text/plain": [
       "6"
      ]
     },
     "execution_count": 109,
     "metadata": {},
     "output_type": "execute_result"
    }
   ],
   "source": [
    "taxi[\"no_of_passenger\"].max()"
   ]
  },
  {
   "cell_type": "code",
   "execution_count": 78,
   "id": "2f8b9077",
   "metadata": {},
   "outputs": [
    {
     "data": {
      "text/plain": [
       "-75.42384832"
      ]
     },
     "execution_count": 78,
     "metadata": {},
     "output_type": "execute_result"
    }
   ],
   "source": [
    "taxi['longitude_of_pickup'].min()"
   ]
  },
  {
   "cell_type": "code",
   "execution_count": 79,
   "id": "42708932",
   "metadata": {},
   "outputs": [
    {
     "data": {
      "text/plain": [
       "40.783472"
      ]
     },
     "execution_count": 79,
     "metadata": {},
     "output_type": "execute_result"
    }
   ],
   "source": [
    "taxi[\"longitude_of_pickup\"].max()"
   ]
  },
  {
   "cell_type": "code",
   "execution_count": 80,
   "id": "25a61523",
   "metadata": {},
   "outputs": [
    {
     "data": {
      "text/plain": [
       "-84.654241"
      ]
     },
     "execution_count": 80,
     "metadata": {},
     "output_type": "execute_result"
    }
   ],
   "source": [
    "taxi['longitude_of_dropoff'].min()"
   ]
  },
  {
   "cell_type": "code",
   "execution_count": 81,
   "id": "1cf315ec",
   "metadata": {},
   "outputs": [
    {
     "data": {
      "text/plain": [
       "40.851027"
      ]
     },
     "execution_count": 81,
     "metadata": {},
     "output_type": "execute_result"
    }
   ],
   "source": [
    "taxi['longitude_of_dropoff'].max()"
   ]
  },
  {
   "cell_type": "code",
   "execution_count": 82,
   "id": "a96e413a",
   "metadata": {},
   "outputs": [
    {
     "data": {
      "text/plain": [
       "-74.006893"
      ]
     },
     "execution_count": 82,
     "metadata": {},
     "output_type": "execute_result"
    }
   ],
   "source": [
    "taxi['latitude_of_pickup'].min()"
   ]
  },
  {
   "cell_type": "code",
   "execution_count": 83,
   "id": "7cf39c16",
   "metadata": {},
   "outputs": [
    {
     "data": {
      "text/plain": [
       "401.083332"
      ]
     },
     "execution_count": 83,
     "metadata": {},
     "output_type": "execute_result"
    }
   ],
   "source": [
    "taxi['latitude_of_pickup'].max()"
   ]
  },
  {
   "cell_type": "code",
   "execution_count": 84,
   "id": "f20a5baa",
   "metadata": {},
   "outputs": [
    {
     "data": {
      "text/plain": [
       "43.41519"
      ]
     },
     "execution_count": 84,
     "metadata": {},
     "output_type": "execute_result"
    }
   ],
   "source": [
    "taxi['latitude_of_dropoff'].max()"
   ]
  },
  {
   "cell_type": "code",
   "execution_count": 85,
   "id": "bca32aeb",
   "metadata": {},
   "outputs": [
    {
     "data": {
      "text/plain": [
       "-74.006377"
      ]
     },
     "execution_count": 85,
     "metadata": {},
     "output_type": "execute_result"
    }
   ],
   "source": [
    "taxi['latitude_of_dropoff'].min()"
   ]
  },
  {
   "cell_type": "code",
   "execution_count": 87,
   "id": "1fb53dc8",
   "metadata": {},
   "outputs": [],
   "source": [
    "taxi=taxi[((taxi[\"longitude_of_pickup\"] > -78 ) & (taxi[\"longitude_of_pickup\"] < -70 )) &  #it is between 70-78\n",
    "          ((taxi[\"longitude_of_dropoff\"] > -78) & (taxi[\"longitude_of_dropoff\"] <-70 )) &  # it is between 70-78\n",
    "          ((taxi[\"latitude_of_pickup\"] > 37) & (taxi[\"latitude_of_pickup\"] < 45 )) &       # it is between 37-45\n",
    "          ((taxi[\"latitude_of_dropoff\"] > 37) & (taxi[\"latitude_of_dropoff\"] < 45 ))&      # it is between 37-45\n",
    "          (taxi[\"no_of_passenger\"] >0 ) & (taxi[\"amount\"] >= 2.5)]"
   ]
  },
  {
   "cell_type": "code",
   "execution_count": 88,
   "id": "d37f77fe",
   "metadata": {},
   "outputs": [
    {
     "data": {
      "text/html": [
       "<div>\n",
       "<style scoped>\n",
       "    .dataframe tbody tr th:only-of-type {\n",
       "        vertical-align: middle;\n",
       "    }\n",
       "\n",
       "    .dataframe tbody tr th {\n",
       "        vertical-align: top;\n",
       "    }\n",
       "\n",
       "    .dataframe thead th {\n",
       "        text-align: right;\n",
       "    }\n",
       "</style>\n",
       "<table border=\"1\" class=\"dataframe\">\n",
       "  <thead>\n",
       "    <tr style=\"text-align: right;\">\n",
       "      <th></th>\n",
       "      <th>amount</th>\n",
       "      <th>longitude_of_pickup</th>\n",
       "      <th>latitude_of_pickup</th>\n",
       "      <th>longitude_of_dropoff</th>\n",
       "      <th>latitude_of_dropoff</th>\n",
       "      <th>no_of_passenger</th>\n",
       "      <th>pickup_day</th>\n",
       "      <th>pickup_hour</th>\n",
       "      <th>pickup_month</th>\n",
       "      <th>pickup_year</th>\n",
       "      <th>mornight</th>\n",
       "    </tr>\n",
       "  </thead>\n",
       "  <tbody>\n",
       "    <tr>\n",
       "      <th>count</th>\n",
       "      <td>48803.000000</td>\n",
       "      <td>48803.000000</td>\n",
       "      <td>48803.000000</td>\n",
       "      <td>48803.000000</td>\n",
       "      <td>48803.000000</td>\n",
       "      <td>48803.00000</td>\n",
       "      <td>48803.000000</td>\n",
       "      <td>48803.000000</td>\n",
       "      <td>48803.000000</td>\n",
       "      <td>48803.000000</td>\n",
       "      <td>48803.000000</td>\n",
       "    </tr>\n",
       "    <tr>\n",
       "      <th>mean</th>\n",
       "      <td>11.367383</td>\n",
       "      <td>-73.975140</td>\n",
       "      <td>40.750930</td>\n",
       "      <td>-73.973992</td>\n",
       "      <td>40.751505</td>\n",
       "      <td>1.67461</td>\n",
       "      <td>15.682540</td>\n",
       "      <td>12.031617</td>\n",
       "      <td>6.280516</td>\n",
       "      <td>2011.739073</td>\n",
       "      <td>0.539106</td>\n",
       "    </tr>\n",
       "    <tr>\n",
       "      <th>std</th>\n",
       "      <td>9.663228</td>\n",
       "      <td>0.045043</td>\n",
       "      <td>0.038094</td>\n",
       "      <td>0.039563</td>\n",
       "      <td>0.038705</td>\n",
       "      <td>1.28866</td>\n",
       "      <td>8.659498</td>\n",
       "      <td>5.847347</td>\n",
       "      <td>3.461965</td>\n",
       "      <td>1.867915</td>\n",
       "      <td>0.498473</td>\n",
       "    </tr>\n",
       "    <tr>\n",
       "      <th>min</th>\n",
       "      <td>2.500000</td>\n",
       "      <td>-75.423848</td>\n",
       "      <td>38.754215</td>\n",
       "      <td>-75.354559</td>\n",
       "      <td>39.604971</td>\n",
       "      <td>1.00000</td>\n",
       "      <td>1.000000</td>\n",
       "      <td>0.000000</td>\n",
       "      <td>1.000000</td>\n",
       "      <td>2008.000000</td>\n",
       "      <td>0.000000</td>\n",
       "    </tr>\n",
       "    <tr>\n",
       "      <th>25%</th>\n",
       "      <td>6.000000</td>\n",
       "      <td>-73.992309</td>\n",
       "      <td>40.736501</td>\n",
       "      <td>-73.991332</td>\n",
       "      <td>40.735905</td>\n",
       "      <td>1.00000</td>\n",
       "      <td>8.000000</td>\n",
       "      <td>7.000000</td>\n",
       "      <td>3.000000</td>\n",
       "      <td>2010.000000</td>\n",
       "      <td>0.000000</td>\n",
       "    </tr>\n",
       "    <tr>\n",
       "      <th>50%</th>\n",
       "      <td>8.500000</td>\n",
       "      <td>-73.982121</td>\n",
       "      <td>40.753446</td>\n",
       "      <td>-73.980483</td>\n",
       "      <td>40.754122</td>\n",
       "      <td>1.00000</td>\n",
       "      <td>16.000000</td>\n",
       "      <td>12.000000</td>\n",
       "      <td>6.000000</td>\n",
       "      <td>2012.000000</td>\n",
       "      <td>1.000000</td>\n",
       "    </tr>\n",
       "    <tr>\n",
       "      <th>75%</th>\n",
       "      <td>12.500000</td>\n",
       "      <td>-73.968369</td>\n",
       "      <td>40.767776</td>\n",
       "      <td>-73.965327</td>\n",
       "      <td>40.768482</td>\n",
       "      <td>2.00000</td>\n",
       "      <td>23.000000</td>\n",
       "      <td>17.000000</td>\n",
       "      <td>9.000000</td>\n",
       "      <td>2013.000000</td>\n",
       "      <td>1.000000</td>\n",
       "    </tr>\n",
       "    <tr>\n",
       "      <th>max</th>\n",
       "      <td>200.000000</td>\n",
       "      <td>-70.140793</td>\n",
       "      <td>43.098708</td>\n",
       "      <td>-72.854940</td>\n",
       "      <td>43.415190</td>\n",
       "      <td>6.00000</td>\n",
       "      <td>31.000000</td>\n",
       "      <td>23.000000</td>\n",
       "      <td>12.000000</td>\n",
       "      <td>2015.000000</td>\n",
       "      <td>1.000000</td>\n",
       "    </tr>\n",
       "  </tbody>\n",
       "</table>\n",
       "</div>"
      ],
      "text/plain": [
       "             amount  longitude_of_pickup  latitude_of_pickup  \\\n",
       "count  48803.000000         48803.000000        48803.000000   \n",
       "mean      11.367383           -73.975140           40.750930   \n",
       "std        9.663228             0.045043            0.038094   \n",
       "min        2.500000           -75.423848           38.754215   \n",
       "25%        6.000000           -73.992309           40.736501   \n",
       "50%        8.500000           -73.982121           40.753446   \n",
       "75%       12.500000           -73.968369           40.767776   \n",
       "max      200.000000           -70.140793           43.098708   \n",
       "\n",
       "       longitude_of_dropoff  latitude_of_dropoff  no_of_passenger  \\\n",
       "count          48803.000000         48803.000000      48803.00000   \n",
       "mean             -73.973992            40.751505          1.67461   \n",
       "std                0.039563             0.038705          1.28866   \n",
       "min              -75.354559            39.604971          1.00000   \n",
       "25%              -73.991332            40.735905          1.00000   \n",
       "50%              -73.980483            40.754122          1.00000   \n",
       "75%              -73.965327            40.768482          2.00000   \n",
       "max              -72.854940            43.415190          6.00000   \n",
       "\n",
       "         pickup_day   pickup_hour  pickup_month   pickup_year      mornight  \n",
       "count  48803.000000  48803.000000  48803.000000  48803.000000  48803.000000  \n",
       "mean      15.682540     12.031617      6.280516   2011.739073      0.539106  \n",
       "std        8.659498      5.847347      3.461965      1.867915      0.498473  \n",
       "min        1.000000      0.000000      1.000000   2008.000000      0.000000  \n",
       "25%        8.000000      7.000000      3.000000   2010.000000      0.000000  \n",
       "50%       16.000000     12.000000      6.000000   2012.000000      1.000000  \n",
       "75%       23.000000     17.000000      9.000000   2013.000000      1.000000  \n",
       "max       31.000000     23.000000     12.000000   2015.000000      1.000000  "
      ]
     },
     "execution_count": 88,
     "metadata": {},
     "output_type": "execute_result"
    }
   ],
   "source": [
    "taxi.describe()"
   ]
  },
  {
   "cell_type": "code",
   "execution_count": 97,
   "id": "f69a100b",
   "metadata": {},
   "outputs": [
    {
     "data": {
      "image/png": "[encoded data removed]",
      "text/plain": [
       "<Figure size 432x288 with 1 Axes>"
      ]
     },
     "metadata": {
      "needs_background": "light"
     },
     "output_type": "display_data"
    }
   ],
   "source": [
    "plt.hist(x=taxi[\"amount\"],color=\"yellow\")\n",
    "plt.title(\"Amount Graph\",fontsize=20,color=\"green\")\n",
    "plt.xlabel(\"Amount\",fontsize=20,color=\"red\")\n",
    "plt.ylabel(\"Frequency\",fontsize=20,color=\"blue\")\n",
    "plt.show()"
   ]
  },
  {
   "cell_type": "code",
   "execution_count": 98,
   "id": "265a634b",
   "metadata": {},
   "outputs": [
    {
     "data": {
      "image/png": "[encoded data removed]",
      "text/plain": [
       "<Figure size 432x288 with 2 Axes>"
      ]
     },
     "metadata": {
      "needs_background": "light"
     },
     "output_type": "display_data"
    }
   ],
   "source": [
    "# Compute The correlation matrix\n",
    "corr_matrix=taxi.corr()\n",
    "\n",
    "# Create heatmap of correlation matrix\n",
    "sns.heatmap(corr_matrix,annot=True)\n",
    "\n",
    "plt.show()"
   ]
  },
  {
   "cell_type": "code",
   "execution_count": 99,
   "id": "ad8f3a19",
   "metadata": {},
   "outputs": [
    {
     "data": {
      "image/png": "[encoded data removed]",
      "text/plain": [
       "<Figure size 432x288 with 1 Axes>"
      ]
     },
     "metadata": {
      "needs_background": "light"
     },
     "output_type": "display_data"
    }
   ],
   "source": [
    "sns.distplot(taxi[\"amount\"])\n",
    "plt.show()"
   ]
  },
  {
   "cell_type": "code",
   "execution_count": 107,
   "id": "2a97307a",
   "metadata": {},
   "outputs": [
    {
     "data": {
      "image/png": "[encoded data removed]",
      "text/plain": [
       "<Figure size 432x288 with 1 Axes>"
      ]
     },
     "metadata": {
      "needs_background": "light"
     },
     "output_type": "display_data"
    }
   ],
   "source": [
    "sns.distplot(taxi[\"amount\"],hist=False)\n",
    "plt.title(\"Amount kde graph\",fontsize=20,color=\"green\")\n",
    "plt.show()"
   ]
  },
  {
   "cell_type": "code",
   "execution_count": 114,
   "id": "6a19cb5b",
   "metadata": {},
   "outputs": [
    {
     "data": {
      "image/png": "[encoded data removed]",
      "text/plain": [
       "<Figure size 432x288 with 1 Axes>"
      ]
     },
     "metadata": {
      "needs_background": "light"
     },
     "output_type": "display_data"
    }
   ],
   "source": [
    "plt.hist([\"no_of_passenger\"],data=taxi)\n",
    "plt.title(\"Distribbution of no of passenger\",fontsize=20,color=\"green\")\n",
    "plt.xlabel(\"no_of_passenger\",color=\"black\")\n",
    "plt.ylabel(\"count\",color=\"Blue\")\n",
    "plt.show()"
   ]
  },
  {
   "cell_type": "code",
   "execution_count": 116,
   "id": "dc6ef36e",
   "metadata": {},
   "outputs": [
    {
     "data": {
      "image/png": "[encoded data removed]",
      "text/plain": [
       "<Figure size 432x288 with 1 Axes>"
      ]
     },
     "metadata": {
      "needs_background": "light"
     },
     "output_type": "display_data"
    }
   ],
   "source": [
    "taxi[\"no_of_passenger\"].value_counts().plot.bar(color='y',edgecolor='k');\n",
    "plt.title(\"Distribbution of no of passenger\",fontsize=20,color=\"green\")\n",
    "plt.xlabel(\"no_of_passenger\",color=\"black\")\n",
    "plt.ylabel(\"count\",color=\"Blue\")\n",
    "plt.show()"
   ]
  },
  {
   "cell_type": "code",
   "execution_count": 121,
   "id": "783c5288",
   "metadata": {},
   "outputs": [
    {
     "data": {
      "image/png": "[encoded data removed]",
      "text/plain": [
       "<Figure size 432x288 with 1 Axes>"
      ]
     },
     "metadata": {
      "needs_background": "light"
     },
     "output_type": "display_data"
    }
   ],
   "source": [
    "taxi[\"pickup_year\"].value_counts().plot.bar(color='y',edgecolor='k');\n",
    "plt.title(\"Distribution year\",fontsize=20,color=\"green\")\n",
    "plt.xlabel(\"years\",color=\"black\")\n",
    "plt.ylabel(\"count\",color=\"Blue\")\n",
    "plt.show()"
   ]
  },
  {
   "cell_type": "code",
   "execution_count": 123,
   "id": "2af3c49a",
   "metadata": {},
   "outputs": [
    {
     "data": {
      "image/png": "[encoded data removed]",
      "text/plain": [
       "<Figure size 432x288 with 1 Axes>"
      ]
     },
     "metadata": {
      "needs_background": "light"
     },
     "output_type": "display_data"
    }
   ],
   "source": [
    "taxi[\"pickup_day_of_week\"].value_counts().plot.bar(color='y',edgecolor='k');\n",
    "plt.title(\"Distribution of days\",fontsize=20,color=\"green\")\n",
    "plt.xlabel(\"days of week \",color=\"black\")\n",
    "plt.ylabel(\"count\",color=\"Blue\")\n",
    "plt.show()"
   ]
  },
  {
   "cell_type": "code",
   "execution_count": 124,
   "id": "d9c1b0ad",
   "metadata": {},
   "outputs": [
    {
     "data": {
      "text/plain": [
       "1    34055\n",
       "2     7254\n",
       "5     3381\n",
       "3     2146\n",
       "4      991\n",
       "6      976\n",
       "Name: no_of_passenger, dtype: int64"
      ]
     },
     "execution_count": 124,
     "metadata": {},
     "output_type": "execute_result"
    }
   ],
   "source": [
    "taxi[\"no_of_passenger\"].value_counts()"
   ]
  },
  {
   "cell_type": "code",
   "execution_count": 126,
   "id": "5158a27b",
   "metadata": {},
   "outputs": [
    {
     "data": {
      "text/plain": [
       "(-74.03, -73.75)"
      ]
     },
     "execution_count": 126,
     "metadata": {},
     "output_type": "execute_result"
    },
    {
     "data": {
      "image/png": "[encoded data removed]",
      "text/plain": [
       "<Figure size 432x288 with 1 Axes>"
      ]
     },
     "metadata": {
      "needs_background": "light"
     },
     "output_type": "display_data"
    }
   ],
   "source": [
    "city_long_border=(-74.03,-73.75)\n",
    "city_lat_border=(40.63,40.85)\n",
    "\n",
    "taxi.plot(kind=\"scatter\", x=\"longitude_of_dropoff\", y=\"longitude_of_dropoff\",\n",
    "          color='yellow',s=.02,alpha=.6)\n",
    "plt.title(\"Dropoffs\")\n",
    "plt.ylim(city_lat_border)\n",
    "plt.xlim(city_long_border)\n"
   ]
  },
  {
   "cell_type": "code",
   "execution_count": 319,
   "id": "5235b4dd",
   "metadata": {},
   "outputs": [
    {
     "data": {
      "text/plain": [
       "amount                  float64\n",
       "longitude_of_pickup     float64\n",
       "latitude_of_pickup      float64\n",
       "longitude_of_dropoff    float64\n",
       "latitude_of_dropoff     float64\n",
       "no_of_passenger           int64\n",
       "pickup_date              object\n",
       "pickup_day                int64\n",
       "pickup_hour               int64\n",
       "pickup_day_of_week       object\n",
       "pickup_month              int64\n",
       "pickup_year               int64\n",
       "mornight                  int32\n",
       "distance                float64\n",
       "dtype: object"
      ]
     },
     "execution_count": 319,
     "metadata": {},
     "output_type": "execute_result"
    }
   ],
   "source": [
    "taxi.dtypes"
   ]
  },
  {
   "cell_type": "code",
   "execution_count": 321,
   "id": "7b521a3e",
   "metadata": {},
   "outputs": [
    {
     "data": {
      "text/plain": [
       "<AxesSubplot:xlabel='amount'>"
      ]
     },
     "execution_count": 321,
     "metadata": {},
     "output_type": "execute_result"
    },
    {
     "data": {
      "image/png": "[encoded data removed]",
      "text/plain": [
       "<Figure size 432x288 with 1 Axes>"
      ]
     },
     "metadata": {
      "needs_background": "light"
     },
     "output_type": "display_data"
    }
   ],
   "source": [
    "sns.boxplot(\"amount\",data=taxi)"
   ]
  },
  {
   "cell_type": "code",
   "execution_count": 322,
   "id": "8af8ab71",
   "metadata": {},
   "outputs": [
    {
     "data": {
      "text/plain": [
       "<AxesSubplot:xlabel='distance'>"
      ]
     },
     "execution_count": 322,
     "metadata": {},
     "output_type": "execute_result"
    },
    {
     "data": {
      "image/png": "[encoded data removed]",
      "text/plain": [
       "<Figure size 432x288 with 1 Axes>"
      ]
     },
     "metadata": {
      "needs_background": "light"
     },
     "output_type": "display_data"
    }
   ],
   "source": [
    "sns.boxplot(\"distance\",data=taxi)"
   ]
  },
  {
   "cell_type": "code",
   "execution_count": 323,
   "id": "7b05c65e",
   "metadata": {},
   "outputs": [
    {
     "data": {
      "text/plain": [
       "<AxesSubplot:xlabel='no_of_passenger'>"
      ]
     },
     "execution_count": 323,
     "metadata": {},
     "output_type": "execute_result"
    },
    {
     "data": {
      "image/png": "[encoded data removed]",
      "text/plain": [
       "<Figure size 432x288 with 1 Axes>"
      ]
     },
     "metadata": {
      "needs_background": "light"
     },
     "output_type": "display_data"
    }
   ],
   "source": [
    "sns.boxplot(\"no_of_passenger\",data=taxi)"
   ]
  },
  {
   "cell_type": "code",
   "execution_count": 324,
   "id": "e9c212cd",
   "metadata": {},
   "outputs": [
    {
     "data": {
      "text/plain": [
       "<AxesSubplot:xlabel='pickup_hour'>"
      ]
     },
     "execution_count": 324,
     "metadata": {},
     "output_type": "execute_result"
    },
    {
     "data": {
      "image/png": "[encoded data removed]",
      "text/plain": [
       "<Figure size 432x288 with 1 Axes>"
      ]
     },
     "metadata": {
      "needs_background": "light"
     },
     "output_type": "display_data"
    }
   ],
   "source": [
    "sns.boxplot(\"pickup_hour\",data=taxi)"
   ]
  },
  {
   "cell_type": "code",
   "execution_count": 325,
   "id": "6bafe44e",
   "metadata": {},
   "outputs": [
    {
     "data": {
      "text/plain": [
       "<AxesSubplot:xlabel='longitude_of_pickup'>"
      ]
     },
     "execution_count": 325,
     "metadata": {},
     "output_type": "execute_result"
    },
    {
     "data": {
      "image/png": "[encoded data removed]",
      "text/plain": [
       "<Figure size 432x288 with 1 Axes>"
      ]
     },
     "metadata": {
      "needs_background": "light"
     },
     "output_type": "display_data"
    }
   ],
   "source": [
    "sns.boxplot(\"longitude_of_pickup\",data=taxi)"
   ]
  },
  {
   "cell_type": "code",
   "execution_count": 327,
   "id": "564568da",
   "metadata": {},
   "outputs": [
    {
     "data": {
      "image/png": "[encoded data removed]",
      "text/plain": [
       "<Figure size 432x432 with 3 Axes>"
      ]
     },
     "metadata": {
      "needs_background": "light"
     },
     "output_type": "display_data"
    }
   ],
   "source": [
    "sns.jointplot(x=\"no_of_passenger\",y=\"amount\",data=taxi,color=\"orchid\")\n",
    "plt.show()"
   ]
  },
  {
   "cell_type": "code",
   "execution_count": 127,
   "id": "66b2aab6",
   "metadata": {},
   "outputs": [
    {
     "data": {
      "text/html": [
       "<div>\n",
       "<style scoped>\n",
       "    .dataframe tbody tr th:only-of-type {\n",
       "        vertical-align: middle;\n",
       "    }\n",
       "\n",
       "    .dataframe tbody tr th {\n",
       "        vertical-align: top;\n",
       "    }\n",
       "\n",
       "    .dataframe thead th {\n",
       "        text-align: right;\n",
       "    }\n",
       "</style>\n",
       "<table border=\"1\" class=\"dataframe\">\n",
       "  <thead>\n",
       "    <tr style=\"text-align: right;\">\n",
       "      <th></th>\n",
       "      <th>amount</th>\n",
       "      <th>longitude_of_pickup</th>\n",
       "      <th>latitude_of_pickup</th>\n",
       "      <th>longitude_of_dropoff</th>\n",
       "      <th>latitude_of_dropoff</th>\n",
       "      <th>no_of_passenger</th>\n",
       "      <th>pickup_date</th>\n",
       "      <th>pickup_day</th>\n",
       "      <th>pickup_hour</th>\n",
       "      <th>pickup_day_of_week</th>\n",
       "      <th>pickup_month</th>\n",
       "      <th>pickup_year</th>\n",
       "      <th>mornight</th>\n",
       "      <th>distance</th>\n",
       "    </tr>\n",
       "  </thead>\n",
       "  <tbody>\n",
       "    <tr>\n",
       "      <th>0</th>\n",
       "      <td>4.5</td>\n",
       "      <td>-73.844311</td>\n",
       "      <td>40.721319</td>\n",
       "      <td>-73.841610</td>\n",
       "      <td>40.712278</td>\n",
       "      <td>1</td>\n",
       "      <td>2009-06-15</td>\n",
       "      <td>15</td>\n",
       "      <td>13</td>\n",
       "      <td>Monday</td>\n",
       "      <td>6</td>\n",
       "      <td>2009</td>\n",
       "      <td>1</td>\n",
       "      <td>0.640487</td>\n",
       "    </tr>\n",
       "    <tr>\n",
       "      <th>1</th>\n",
       "      <td>16.9</td>\n",
       "      <td>-74.016048</td>\n",
       "      <td>40.711303</td>\n",
       "      <td>-73.979268</td>\n",
       "      <td>40.782004</td>\n",
       "      <td>1</td>\n",
       "      <td>2010-01-05</td>\n",
       "      <td>5</td>\n",
       "      <td>12</td>\n",
       "      <td>Tuesday</td>\n",
       "      <td>1</td>\n",
       "      <td>2010</td>\n",
       "      <td>1</td>\n",
       "      <td>5.250670</td>\n",
       "    </tr>\n",
       "    <tr>\n",
       "      <th>2</th>\n",
       "      <td>5.7</td>\n",
       "      <td>-73.982738</td>\n",
       "      <td>40.761270</td>\n",
       "      <td>-73.991242</td>\n",
       "      <td>40.750562</td>\n",
       "      <td>2</td>\n",
       "      <td>2011-08-17</td>\n",
       "      <td>17</td>\n",
       "      <td>20</td>\n",
       "      <td>Wednesday</td>\n",
       "      <td>8</td>\n",
       "      <td>2011</td>\n",
       "      <td>1</td>\n",
       "      <td>0.863411</td>\n",
       "    </tr>\n",
       "    <tr>\n",
       "      <th>3</th>\n",
       "      <td>7.7</td>\n",
       "      <td>-73.987130</td>\n",
       "      <td>40.733143</td>\n",
       "      <td>-73.991567</td>\n",
       "      <td>40.758092</td>\n",
       "      <td>1</td>\n",
       "      <td>2012-04-21</td>\n",
       "      <td>21</td>\n",
       "      <td>0</td>\n",
       "      <td>Saturday</td>\n",
       "      <td>4</td>\n",
       "      <td>2012</td>\n",
       "      <td>0</td>\n",
       "      <td>1.739386</td>\n",
       "    </tr>\n",
       "    <tr>\n",
       "      <th>4</th>\n",
       "      <td>5.3</td>\n",
       "      <td>-73.968095</td>\n",
       "      <td>40.768008</td>\n",
       "      <td>-73.956655</td>\n",
       "      <td>40.783762</td>\n",
       "      <td>1</td>\n",
       "      <td>2010-03-09</td>\n",
       "      <td>9</td>\n",
       "      <td>3</td>\n",
       "      <td>Tuesday</td>\n",
       "      <td>3</td>\n",
       "      <td>2010</td>\n",
       "      <td>0</td>\n",
       "      <td>1.242218</td>\n",
       "    </tr>\n",
       "  </tbody>\n",
       "</table>\n",
       "</div>"
      ],
      "text/plain": [
       "   amount  longitude_of_pickup  latitude_of_pickup  longitude_of_dropoff  \\\n",
       "0     4.5           -73.844311           40.721319            -73.841610   \n",
       "1    16.9           -74.016048           40.711303            -73.979268   \n",
       "2     5.7           -73.982738           40.761270            -73.991242   \n",
       "3     7.7           -73.987130           40.733143            -73.991567   \n",
       "4     5.3           -73.968095           40.768008            -73.956655   \n",
       "\n",
       "   latitude_of_dropoff  no_of_passenger pickup_date  pickup_day  pickup_hour  \\\n",
       "0            40.712278                1  2009-06-15          15           13   \n",
       "1            40.782004                1  2010-01-05           5           12   \n",
       "2            40.750562                2  2011-08-17          17           20   \n",
       "3            40.758092                1  2012-04-21          21            0   \n",
       "4            40.783762                1  2010-03-09           9            3   \n",
       "\n",
       "  pickup_day_of_week  pickup_month  pickup_year  mornight  distance  \n",
       "0             Monday             6         2009         1  0.640487  \n",
       "1            Tuesday             1         2010         1  5.250670  \n",
       "2          Wednesday             8         2011         1  0.863411  \n",
       "3           Saturday             4         2012         0  1.739386  \n",
       "4            Tuesday             3         2010         0  1.242218  "
      ]
     },
     "execution_count": 127,
     "metadata": {},
     "output_type": "execute_result"
    }
   ],
   "source": [
    " #by using haversine Distance\n",
    "def distance(lat1,lon1,lat2,lon2):\n",
    "    p=0.017453292519943295  # pi/180\n",
    "    a=0.5- np.cos((lat2-lat1)* p)/2 +np.cos(lat1*p)* np.cos(lat2*p) * (1-np.cos((lon2-lon1)*p))/2\n",
    "    return 0.6213712 * 12742 *np.arcsin(np.sqrt(a))\n",
    "\n",
    "taxi[\"distance\"]=distance(taxi.latitude_of_pickup,taxi.longitude_of_pickup,\\\n",
    "                               taxi.latitude_of_dropoff,taxi.longitude_of_dropoff)\n",
    "taxi.head()"
   ]
  },
  {
   "cell_type": "code",
   "execution_count": 128,
   "id": "a0b1b50e",
   "metadata": {},
   "outputs": [
    {
     "data": {
      "text/html": [
       "<div>\n",
       "<style scoped>\n",
       "    .dataframe tbody tr th:only-of-type {\n",
       "        vertical-align: middle;\n",
       "    }\n",
       "\n",
       "    .dataframe tbody tr th {\n",
       "        vertical-align: top;\n",
       "    }\n",
       "\n",
       "    .dataframe thead th {\n",
       "        text-align: right;\n",
       "    }\n",
       "</style>\n",
       "<table border=\"1\" class=\"dataframe\">\n",
       "  <thead>\n",
       "    <tr style=\"text-align: right;\">\n",
       "      <th></th>\n",
       "      <th>amount</th>\n",
       "      <th>longitude_of_pickup</th>\n",
       "      <th>latitude_of_pickup</th>\n",
       "      <th>longitude_of_dropoff</th>\n",
       "      <th>latitude_of_dropoff</th>\n",
       "      <th>no_of_passenger</th>\n",
       "      <th>pickup_date</th>\n",
       "      <th>pickup_day</th>\n",
       "      <th>pickup_hour</th>\n",
       "      <th>pickup_day_of_week</th>\n",
       "      <th>pickup_month</th>\n",
       "      <th>pickup_year</th>\n",
       "      <th>mornight</th>\n",
       "      <th>distance</th>\n",
       "    </tr>\n",
       "  </thead>\n",
       "  <tbody>\n",
       "    <tr>\n",
       "      <th>0</th>\n",
       "      <td>4.5</td>\n",
       "      <td>-73.844311</td>\n",
       "      <td>40.721319</td>\n",
       "      <td>-73.841610</td>\n",
       "      <td>40.712278</td>\n",
       "      <td>1</td>\n",
       "      <td>2009-06-15</td>\n",
       "      <td>15</td>\n",
       "      <td>13</td>\n",
       "      <td>Monday</td>\n",
       "      <td>6</td>\n",
       "      <td>2009</td>\n",
       "      <td>1</td>\n",
       "      <td>0.640487</td>\n",
       "    </tr>\n",
       "    <tr>\n",
       "      <th>1</th>\n",
       "      <td>16.9</td>\n",
       "      <td>-74.016048</td>\n",
       "      <td>40.711303</td>\n",
       "      <td>-73.979268</td>\n",
       "      <td>40.782004</td>\n",
       "      <td>1</td>\n",
       "      <td>2010-01-05</td>\n",
       "      <td>5</td>\n",
       "      <td>12</td>\n",
       "      <td>Tuesday</td>\n",
       "      <td>1</td>\n",
       "      <td>2010</td>\n",
       "      <td>1</td>\n",
       "      <td>5.250670</td>\n",
       "    </tr>\n",
       "    <tr>\n",
       "      <th>2</th>\n",
       "      <td>5.7</td>\n",
       "      <td>-73.982738</td>\n",
       "      <td>40.761270</td>\n",
       "      <td>-73.991242</td>\n",
       "      <td>40.750562</td>\n",
       "      <td>2</td>\n",
       "      <td>2011-08-17</td>\n",
       "      <td>17</td>\n",
       "      <td>20</td>\n",
       "      <td>Wednesday</td>\n",
       "      <td>8</td>\n",
       "      <td>2011</td>\n",
       "      <td>1</td>\n",
       "      <td>0.863411</td>\n",
       "    </tr>\n",
       "    <tr>\n",
       "      <th>3</th>\n",
       "      <td>7.7</td>\n",
       "      <td>-73.987130</td>\n",
       "      <td>40.733143</td>\n",
       "      <td>-73.991567</td>\n",
       "      <td>40.758092</td>\n",
       "      <td>1</td>\n",
       "      <td>2012-04-21</td>\n",
       "      <td>21</td>\n",
       "      <td>0</td>\n",
       "      <td>Saturday</td>\n",
       "      <td>4</td>\n",
       "      <td>2012</td>\n",
       "      <td>0</td>\n",
       "      <td>1.739386</td>\n",
       "    </tr>\n",
       "    <tr>\n",
       "      <th>4</th>\n",
       "      <td>5.3</td>\n",
       "      <td>-73.968095</td>\n",
       "      <td>40.768008</td>\n",
       "      <td>-73.956655</td>\n",
       "      <td>40.783762</td>\n",
       "      <td>1</td>\n",
       "      <td>2010-03-09</td>\n",
       "      <td>9</td>\n",
       "      <td>3</td>\n",
       "      <td>Tuesday</td>\n",
       "      <td>3</td>\n",
       "      <td>2010</td>\n",
       "      <td>0</td>\n",
       "      <td>1.242218</td>\n",
       "    </tr>\n",
       "  </tbody>\n",
       "</table>\n",
       "</div>"
      ],
      "text/plain": [
       "   amount  longitude_of_pickup  latitude_of_pickup  longitude_of_dropoff  \\\n",
       "0     4.5           -73.844311           40.721319            -73.841610   \n",
       "1    16.9           -74.016048           40.711303            -73.979268   \n",
       "2     5.7           -73.982738           40.761270            -73.991242   \n",
       "3     7.7           -73.987130           40.733143            -73.991567   \n",
       "4     5.3           -73.968095           40.768008            -73.956655   \n",
       "\n",
       "   latitude_of_dropoff  no_of_passenger pickup_date  pickup_day  pickup_hour  \\\n",
       "0            40.712278                1  2009-06-15          15           13   \n",
       "1            40.782004                1  2010-01-05           5           12   \n",
       "2            40.750562                2  2011-08-17          17           20   \n",
       "3            40.758092                1  2012-04-21          21            0   \n",
       "4            40.783762                1  2010-03-09           9            3   \n",
       "\n",
       "  pickup_day_of_week  pickup_month  pickup_year  mornight  distance  \n",
       "0             Monday             6         2009         1  0.640487  \n",
       "1            Tuesday             1         2010         1  5.250670  \n",
       "2          Wednesday             8         2011         1  0.863411  \n",
       "3           Saturday             4         2012         0  1.739386  \n",
       "4            Tuesday             3         2010         0  1.242218  "
      ]
     },
     "execution_count": 128,
     "metadata": {},
     "output_type": "execute_result"
    }
   ],
   "source": [
    "taxi_final=taxi.copy()\n",
    "taxi_final.head()"
   ]
  },
  {
   "cell_type": "code",
   "execution_count": 130,
   "id": "8ef5e26e",
   "metadata": {},
   "outputs": [
    {
     "data": {
      "text/html": [
       "<div>\n",
       "<style scoped>\n",
       "    .dataframe tbody tr th:only-of-type {\n",
       "        vertical-align: middle;\n",
       "    }\n",
       "\n",
       "    .dataframe tbody tr th {\n",
       "        vertical-align: top;\n",
       "    }\n",
       "\n",
       "    .dataframe thead th {\n",
       "        text-align: right;\n",
       "    }\n",
       "</style>\n",
       "<table border=\"1\" class=\"dataframe\">\n",
       "  <thead>\n",
       "    <tr style=\"text-align: right;\">\n",
       "      <th></th>\n",
       "      <th>amount</th>\n",
       "      <th>longitude_of_pickup</th>\n",
       "      <th>latitude_of_pickup</th>\n",
       "      <th>longitude_of_dropoff</th>\n",
       "      <th>latitude_of_dropoff</th>\n",
       "      <th>no_of_passenger</th>\n",
       "      <th>pickup_day</th>\n",
       "      <th>pickup_hour</th>\n",
       "      <th>pickup_day_of_week</th>\n",
       "      <th>pickup_month</th>\n",
       "      <th>pickup_year</th>\n",
       "      <th>mornight</th>\n",
       "      <th>distance</th>\n",
       "    </tr>\n",
       "  </thead>\n",
       "  <tbody>\n",
       "    <tr>\n",
       "      <th>0</th>\n",
       "      <td>4.5</td>\n",
       "      <td>-73.844311</td>\n",
       "      <td>40.721319</td>\n",
       "      <td>-73.841610</td>\n",
       "      <td>40.712278</td>\n",
       "      <td>1</td>\n",
       "      <td>15</td>\n",
       "      <td>13</td>\n",
       "      <td>1.0</td>\n",
       "      <td>6</td>\n",
       "      <td>4.0</td>\n",
       "      <td>1</td>\n",
       "      <td>0.640487</td>\n",
       "    </tr>\n",
       "    <tr>\n",
       "      <th>1</th>\n",
       "      <td>16.9</td>\n",
       "      <td>-74.016048</td>\n",
       "      <td>40.711303</td>\n",
       "      <td>-73.979268</td>\n",
       "      <td>40.782004</td>\n",
       "      <td>1</td>\n",
       "      <td>5</td>\n",
       "      <td>12</td>\n",
       "      <td>2.0</td>\n",
       "      <td>1</td>\n",
       "      <td>5.0</td>\n",
       "      <td>1</td>\n",
       "      <td>5.250670</td>\n",
       "    </tr>\n",
       "    <tr>\n",
       "      <th>2</th>\n",
       "      <td>5.7</td>\n",
       "      <td>-73.982738</td>\n",
       "      <td>40.761270</td>\n",
       "      <td>-73.991242</td>\n",
       "      <td>40.750562</td>\n",
       "      <td>2</td>\n",
       "      <td>17</td>\n",
       "      <td>20</td>\n",
       "      <td>5.0</td>\n",
       "      <td>8</td>\n",
       "      <td>3.0</td>\n",
       "      <td>1</td>\n",
       "      <td>0.863411</td>\n",
       "    </tr>\n",
       "    <tr>\n",
       "      <th>3</th>\n",
       "      <td>7.7</td>\n",
       "      <td>-73.987130</td>\n",
       "      <td>40.733143</td>\n",
       "      <td>-73.991567</td>\n",
       "      <td>40.758092</td>\n",
       "      <td>1</td>\n",
       "      <td>21</td>\n",
       "      <td>0</td>\n",
       "      <td>NaN</td>\n",
       "      <td>4</td>\n",
       "      <td>1.0</td>\n",
       "      <td>0</td>\n",
       "      <td>1.739386</td>\n",
       "    </tr>\n",
       "    <tr>\n",
       "      <th>4</th>\n",
       "      <td>5.3</td>\n",
       "      <td>-73.968095</td>\n",
       "      <td>40.768008</td>\n",
       "      <td>-73.956655</td>\n",
       "      <td>40.783762</td>\n",
       "      <td>1</td>\n",
       "      <td>9</td>\n",
       "      <td>3</td>\n",
       "      <td>2.0</td>\n",
       "      <td>3</td>\n",
       "      <td>5.0</td>\n",
       "      <td>0</td>\n",
       "      <td>1.242218</td>\n",
       "    </tr>\n",
       "  </tbody>\n",
       "</table>\n",
       "</div>"
      ],
      "text/plain": [
       "   amount  longitude_of_pickup  latitude_of_pickup  longitude_of_dropoff  \\\n",
       "0     4.5           -73.844311           40.721319            -73.841610   \n",
       "1    16.9           -74.016048           40.711303            -73.979268   \n",
       "2     5.7           -73.982738           40.761270            -73.991242   \n",
       "3     7.7           -73.987130           40.733143            -73.991567   \n",
       "4     5.3           -73.968095           40.768008            -73.956655   \n",
       "\n",
       "   latitude_of_dropoff  no_of_passenger  pickup_day  pickup_hour  \\\n",
       "0            40.712278                1          15           13   \n",
       "1            40.782004                1           5           12   \n",
       "2            40.750562                2          17           20   \n",
       "3            40.758092                1          21            0   \n",
       "4            40.783762                1           9            3   \n",
       "\n",
       "   pickup_day_of_week  pickup_month  pickup_year  mornight  distance  \n",
       "0                 1.0             6          4.0         1  0.640487  \n",
       "1                 2.0             1          5.0         1  5.250670  \n",
       "2                 5.0             8          3.0         1  0.863411  \n",
       "3                 NaN             4          1.0         0  1.739386  \n",
       "4                 2.0             3          5.0         0  1.242218  "
      ]
     },
     "execution_count": 130,
     "metadata": {},
     "output_type": "execute_result"
    }
   ],
   "source": [
    "variables={'Monday':1,'Tuesday':2,'Thursday':3,'Saturdday':4,'Wednesday':5,'Sunday':6,'Friday':7}\n",
    "year={2012:1,2013:2,2011:3,2009:4,2010:5,2014:6,2015:7}\n",
    "taxi_final[\"pickup_year\"]=taxi_final[\"pickup_year\"].map(year)\n",
    "taxi_final[\"pickup_day_of_week\"]=taxi_final[\"pickup_day_of_week\"].map(variables)\n",
    "taxi_final.drop([\"pickup_date\"],axis=1,inplace=True)\n",
    "taxi_final.head()"
   ]
  },
  {
   "cell_type": "code",
   "execution_count": 136,
   "id": "13ac6589",
   "metadata": {},
   "outputs": [
    {
     "name": "stdout",
     "output_type": "stream",
     "text": [
      "/n InternalQuantileRange=/n amount                   6.500000\n",
      "longitude_of_pickup      0.023940\n",
      "latitude_of_pickup       0.031275\n",
      "longitude_of_dropoff     0.026005\n",
      "latitude_of_dropoff      0.032577\n",
      "no_of_passenger          1.000000\n",
      "pickup_day              15.000000\n",
      "pickup_hour             10.000000\n",
      "pickup_day_of_week       4.000000\n",
      "pickup_month             6.000000\n",
      "pickup_year              3.000000\n",
      "mornight                 1.000000\n",
      "distance                 1.664690\n",
      "dtype: float64\n"
     ]
    },
    {
     "data": {
      "text/plain": [
       "(37094, 13)"
      ]
     },
     "execution_count": 136,
     "metadata": {},
     "output_type": "execute_result"
    }
   ],
   "source": [
    "#outliers \n",
    "q1=taxi_final.quantile(0.25)\n",
    "q3=taxi_final.quantile(0.75)\n",
    "iqr=q3-q1\n",
    "print(\"/n InternalQuantileRange=/n\",iqr)\n",
    "taxi_final1=taxi_final[~((taxi_final < (q1-1.5*iqr)) | (taxi_final > (q3+1.5*iqr))).any(axis=1)]\n",
    "taxi_final1.head(5)\n",
    "taxi_final1.shape"
   ]
  },
  {
   "cell_type": "code",
   "execution_count": 146,
   "id": "50f20ce3",
   "metadata": {},
   "outputs": [],
   "source": []
  },
  {
   "cell_type": "code",
   "execution_count": 138,
   "id": "854b29f0",
   "metadata": {},
   "outputs": [
    {
     "data": {
      "text/plain": [
       "amount                  float64\n",
       "longitude_of_pickup     float64\n",
       "latitude_of_pickup      float64\n",
       "longitude_of_dropoff    float64\n",
       "latitude_of_dropoff     float64\n",
       "no_of_passenger           int64\n",
       "pickup_day                int64\n",
       "pickup_hour               int64\n",
       "pickup_day_of_week      float64\n",
       "pickup_month              int64\n",
       "pickup_year             float64\n",
       "mornight                  int32\n",
       "distance                float64\n",
       "dtype: object"
      ]
     },
     "execution_count": 138,
     "metadata": {},
     "output_type": "execute_result"
    }
   ],
   "source": [
    "taxi_final.dtypes"
   ]
  },
  {
   "cell_type": "code",
   "execution_count": 142,
   "id": "79867045",
   "metadata": {},
   "outputs": [
    {
     "data": {
      "text/plain": [
       "(48803, 13)"
      ]
     },
     "execution_count": 142,
     "metadata": {},
     "output_type": "execute_result"
    }
   ],
   "source": [
    "taxi_final.shape"
   ]
  },
  {
   "cell_type": "code",
   "execution_count": 144,
   "id": "7a59518a",
   "metadata": {},
   "outputs": [
    {
     "data": {
      "text/plain": [
       "(37094, 13)"
      ]
     },
     "execution_count": 144,
     "metadata": {},
     "output_type": "execute_result"
    }
   ],
   "source": [
    "taxi_final1.shape\n"
   ]
  },
  {
   "cell_type": "code",
   "execution_count": 145,
   "id": "e4b2b0e1",
   "metadata": {},
   "outputs": [
    {
     "data": {
      "text/plain": [
       "amount                  float64\n",
       "longitude_of_pickup     float64\n",
       "latitude_of_pickup      float64\n",
       "longitude_of_dropoff    float64\n",
       "latitude_of_dropoff     float64\n",
       "no_of_passenger           int64\n",
       "pickup_day                int64\n",
       "pickup_hour               int64\n",
       "pickup_day_of_week      float64\n",
       "pickup_month              int64\n",
       "pickup_year             float64\n",
       "mornight                  int32\n",
       "distance                float64\n",
       "dtype: object"
      ]
     },
     "execution_count": 145,
     "metadata": {},
     "output_type": "execute_result"
    }
   ],
   "source": []
  },
  {
   "cell_type": "code",
   "execution_count": 147,
   "id": "b08e4926",
   "metadata": {},
   "outputs": [],
   "source": []
  },
  {
   "cell_type": "code",
   "execution_count": 151,
   "id": "bdc1a332",
   "metadata": {},
   "outputs": [],
   "source": [
    "taxi_f=taxi_final1.dropna()"
   ]
  },
  {
   "cell_type": "code",
   "execution_count": 152,
   "id": "617991b1",
   "metadata": {},
   "outputs": [
    {
     "data": {
      "text/plain": [
       "(31436, 13)"
      ]
     },
     "execution_count": 152,
     "metadata": {},
     "output_type": "execute_result"
    }
   ],
   "source": [
    "taxi_f.shape"
   ]
  },
  {
   "cell_type": "code",
   "execution_count": 153,
   "id": "ce62b86c",
   "metadata": {},
   "outputs": [
    {
     "data": {
      "text/plain": [
       "amount                  0\n",
       "longitude_of_pickup     0\n",
       "latitude_of_pickup      0\n",
       "longitude_of_dropoff    0\n",
       "latitude_of_dropoff     0\n",
       "no_of_passenger         0\n",
       "pickup_day              0\n",
       "pickup_hour             0\n",
       "pickup_day_of_week      0\n",
       "pickup_month            0\n",
       "pickup_year             0\n",
       "mornight                0\n",
       "distance                0\n",
       "dtype: int64"
      ]
     },
     "execution_count": 153,
     "metadata": {},
     "output_type": "execute_result"
    }
   ],
   "source": [
    "taxi_f.isnull().sum()"
   ]
  },
  {
   "cell_type": "code",
   "execution_count": 154,
   "id": "0b189d1f",
   "metadata": {},
   "outputs": [],
   "source": [
    "X=taxi_f.drop([\"amount\"],axis=1)\n",
    "Y=taxi_f[\"amount\"]"
   ]
  },
  {
   "cell_type": "code",
   "execution_count": 160,
   "id": "16bcdc62",
   "metadata": {},
   "outputs": [],
   "source": [
    "X_train,X_test,Y_train,Y_test=train_test_split(X,Y,test_size=0.3,random_state=42)"
   ]
  },
  {
   "cell_type": "code",
   "execution_count": 161,
   "id": "fe9e864d",
   "metadata": {},
   "outputs": [],
   "source": [
    "model_1=LinearRegression()"
   ]
  },
  {
   "cell_type": "code",
   "execution_count": 162,
   "id": "126037ea",
   "metadata": {},
   "outputs": [
    {
     "data": {
      "text/plain": [
       "LinearRegression()"
      ]
     },
     "execution_count": 162,
     "metadata": {},
     "output_type": "execute_result"
    }
   ],
   "source": [
    "model_1.fit(X_train,Y_train)"
   ]
  },
  {
   "cell_type": "code",
   "execution_count": 163,
   "id": "aa9541f6",
   "metadata": {},
   "outputs": [
    {
     "data": {
      "text/plain": [
       "0.6469792282944528"
      ]
     },
     "execution_count": 163,
     "metadata": {},
     "output_type": "execute_result"
    }
   ],
   "source": [
    "model_1.score(X_train,Y_train)"
   ]
  },
  {
   "cell_type": "code",
   "execution_count": 164,
   "id": "a165aa60",
   "metadata": {},
   "outputs": [
    {
     "data": {
      "text/plain": [
       "0.6458358206815187"
      ]
     },
     "execution_count": 164,
     "metadata": {},
     "output_type": "execute_result"
    }
   ],
   "source": [
    "model_1.score(X_test,Y_test)"
   ]
  },
  {
   "cell_type": "code",
   "execution_count": 219,
   "id": "418b23fe",
   "metadata": {},
   "outputs": [],
   "source": [
    "from sklearn.tree import DecisionTreeRegressor"
   ]
  },
  {
   "cell_type": "code",
   "execution_count": 220,
   "id": "94db8d4d",
   "metadata": {},
   "outputs": [],
   "source": [
    "model_2=DecisionTreeRegressor()\n"
   ]
  },
  {
   "cell_type": "code",
   "execution_count": 221,
   "id": "286a3e6b",
   "metadata": {},
   "outputs": [
    {
     "data": {
      "text/plain": [
       "DecisionTreeRegressor()"
      ]
     },
     "execution_count": 221,
     "metadata": {},
     "output_type": "execute_result"
    }
   ],
   "source": [
    "model_2.fit(X_train,Y_train)"
   ]
  },
  {
   "cell_type": "code",
   "execution_count": 222,
   "id": "884f8079",
   "metadata": {},
   "outputs": [
    {
     "data": {
      "text/plain": [
       "1.0"
      ]
     },
     "execution_count": 222,
     "metadata": {},
     "output_type": "execute_result"
    }
   ],
   "source": [
    "model_3.score(X_train,Y_train)"
   ]
  },
  {
   "cell_type": "code",
   "execution_count": 223,
   "id": "bd55d8d3",
   "metadata": {},
   "outputs": [
    {
     "data": {
      "text/plain": [
       "0.4114677257467123"
      ]
     },
     "execution_count": 223,
     "metadata": {},
     "output_type": "execute_result"
    }
   ],
   "source": [
    "model_3.score(X_test,Y_test)"
   ]
  },
  {
   "cell_type": "code",
   "execution_count": 228,
   "id": "ee37175e",
   "metadata": {},
   "outputs": [],
   "source": [
    "from sklearn.ensemble import BaggingRegressor"
   ]
  },
  {
   "cell_type": "code",
   "execution_count": 251,
   "id": "dea4ccca",
   "metadata": {},
   "outputs": [],
   "source": [
    "model_2=BaggingRegressor(n_estimators=90,base_estimator=model_3)"
   ]
  },
  {
   "cell_type": "code",
   "execution_count": 252,
   "id": "3161728d",
   "metadata": {},
   "outputs": [
    {
     "data": {
      "text/plain": [
       "BaggingRegressor(base_estimator=DecisionTreeRegressor(), n_estimators=90)"
      ]
     },
     "execution_count": 252,
     "metadata": {},
     "output_type": "execute_result"
    }
   ],
   "source": [
    "model_2.fit(X_train,Y_train)"
   ]
  },
  {
   "cell_type": "code",
   "execution_count": 253,
   "id": "5ad2c51e",
   "metadata": {},
   "outputs": [
    {
     "data": {
      "text/plain": [
       "0.9607756837665072"
      ]
     },
     "execution_count": 253,
     "metadata": {},
     "output_type": "execute_result"
    }
   ],
   "source": [
    "model_2.score(X_train,Y_train)"
   ]
  },
  {
   "cell_type": "code",
   "execution_count": 254,
   "id": "19c4acf9",
   "metadata": {},
   "outputs": [
    {
     "data": {
      "text/plain": [
       "0.7221732523532868"
      ]
     },
     "execution_count": 254,
     "metadata": {},
     "output_type": "execute_result"
    }
   ],
   "source": [
    "model_2.score(X_test,Y_test)"
   ]
  },
  {
   "cell_type": "code",
   "execution_count": 255,
   "id": "124d50c0",
   "metadata": {},
   "outputs": [],
   "source": [
    "from sklearn.ensemble import AdaBoostRegressor"
   ]
  },
  {
   "cell_type": "code",
   "execution_count": 260,
   "id": "fcf1adf7",
   "metadata": {},
   "outputs": [],
   "source": [
    "model_4=AdaBoostRegressor(n_estimators=1)"
   ]
  },
  {
   "cell_type": "code",
   "execution_count": 261,
   "id": "8d5625b1",
   "metadata": {},
   "outputs": [
    {
     "data": {
      "text/plain": [
       "AdaBoostRegressor(n_estimators=1)"
      ]
     },
     "execution_count": 261,
     "metadata": {},
     "output_type": "execute_result"
    }
   ],
   "source": [
    "model_4.fit(X_train,Y_train)"
   ]
  },
  {
   "cell_type": "code",
   "execution_count": 262,
   "id": "6f7d1fa3",
   "metadata": {},
   "outputs": [
    {
     "data": {
      "text/plain": [
       "0.6354001927436674"
      ]
     },
     "execution_count": 262,
     "metadata": {},
     "output_type": "execute_result"
    }
   ],
   "source": [
    "model_4.score(X_train,Y_train)"
   ]
  },
  {
   "cell_type": "code",
   "execution_count": 263,
   "id": "14331992",
   "metadata": {},
   "outputs": [
    {
     "data": {
      "text/plain": [
       "0.6295832797825356"
      ]
     },
     "execution_count": 263,
     "metadata": {},
     "output_type": "execute_result"
    }
   ],
   "source": [
    "model_4.score(X_test,Y_test)"
   ]
  },
  {
   "cell_type": "code",
   "execution_count": 180,
   "id": "cb1a2aed",
   "metadata": {},
   "outputs": [],
   "source": [
    "from sklearn.ensemble import GradientBoostingRegressor"
   ]
  },
  {
   "cell_type": "code",
   "execution_count": 268,
   "id": "5d1325f0",
   "metadata": {},
   "outputs": [],
   "source": [
    "model_5=GradientBoostingRegressor()"
   ]
  },
  {
   "cell_type": "code",
   "execution_count": 269,
   "id": "6cc09163",
   "metadata": {},
   "outputs": [
    {
     "data": {
      "text/plain": [
       "GradientBoostingRegressor()"
      ]
     },
     "execution_count": 269,
     "metadata": {},
     "output_type": "execute_result"
    }
   ],
   "source": [
    "model_5.fit(X_train,Y_train)"
   ]
  },
  {
   "cell_type": "code",
   "execution_count": 270,
   "id": "4aaddd99",
   "metadata": {},
   "outputs": [
    {
     "data": {
      "text/plain": [
       "0.7435900860961667"
      ]
     },
     "execution_count": 270,
     "metadata": {},
     "output_type": "execute_result"
    }
   ],
   "source": [
    "model_5.score(X_train,Y_train)"
   ]
  },
  {
   "cell_type": "code",
   "execution_count": 271,
   "id": "cf980ca3",
   "metadata": {},
   "outputs": [
    {
     "data": {
      "text/plain": [
       "0.7309508790660931"
      ]
     },
     "execution_count": 271,
     "metadata": {},
     "output_type": "execute_result"
    }
   ],
   "source": [
    "model_5.score(X_test,Y_test)"
   ]
  },
  {
   "cell_type": "code",
   "execution_count": 285,
   "id": "c2c32362",
   "metadata": {},
   "outputs": [],
   "source": [
    "from sklearn.ensemble import RandomForestRegressor"
   ]
  },
  {
   "cell_type": "code",
   "execution_count": 315,
   "id": "1de14797",
   "metadata": {},
   "outputs": [],
   "source": [
    "model_6=RandomForestRegressor(n_estimators=60,max_features=5)"
   ]
  },
  {
   "cell_type": "code",
   "execution_count": 316,
   "id": "bc5485e8",
   "metadata": {},
   "outputs": [
    {
     "data": {
      "text/plain": [
       "RandomForestRegressor(max_features=5, n_estimators=60)"
      ]
     },
     "execution_count": 316,
     "metadata": {},
     "output_type": "execute_result"
    }
   ],
   "source": [
    "model_6.fit(X_train,Y_train)"
   ]
  },
  {
   "cell_type": "code",
   "execution_count": 317,
   "id": "6f412908",
   "metadata": {},
   "outputs": [
    {
     "data": {
      "text/plain": [
       "0.9619005402881018"
      ]
     },
     "execution_count": 317,
     "metadata": {},
     "output_type": "execute_result"
    }
   ],
   "source": [
    "model_6.score(X_train,Y_train)"
   ]
  },
  {
   "cell_type": "code",
   "execution_count": 318,
   "id": "dfc64309",
   "metadata": {},
   "outputs": [
    {
     "data": {
      "text/plain": [
       "0.7340962660643068"
      ]
     },
     "execution_count": 318,
     "metadata": {},
     "output_type": "execute_result"
    }
   ],
   "source": [
    "model_6.score(X_test,Y_test)"
   ]
  },
  {
   "cell_type": "code",
   "execution_count": null,
   "id": "44cab8ff",
   "metadata": {},
   "outputs": [],
   "source": []
  }
 ],
 "metadata": {
  "kernelspec": {
   "display_name": "Python 3 (ipykernel)",
   "language": "python",
   "name": "python3"
  },
  "language_info": {
   "codemirror_mode": {
    "name": "ipython",
    "version": 3
   },
   "file_extension": ".py",
   "mimetype": "text/x-python",
   "name": "python",
   "nbconvert_exporter": "python",
   "pygments_lexer": "ipython3",
   "version": "3.9.12"
  }
 },
 "nbformat": 4,
 "nbformat_minor": 5
}
